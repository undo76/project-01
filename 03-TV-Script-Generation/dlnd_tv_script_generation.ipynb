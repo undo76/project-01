{
 "cells": [
  {
   "cell_type": "markdown",
   "metadata": {
    "deletable": true,
    "editable": true
   },
   "source": [
    "# TV Script Generation\n",
    "In this project, you'll generate your own [Simpsons](https://en.wikipedia.org/wiki/The_Simpsons) TV scripts using RNNs.  You'll be using part of the [Simpsons dataset](https://www.kaggle.com/wcukierski/the-simpsons-by-the-data) of scripts from 27 seasons.  The Neural Network you'll build will generate a new TV script for a scene at [Moe's Tavern](https://simpsonswiki.com/wiki/Moe's_Tavern).\n",
    "## Get the Data\n",
    "The data is already provided for you.  You'll be using a subset of the original dataset.  It consists of only the scenes in Moe's Tavern.  This doesn't include other versions of the tavern, like \"Moe's Cavern\", \"Flaming Moe's\", \"Uncle Moe's Family Feed-Bag\", etc.."
   ]
  },
  {
   "cell_type": "code",
   "execution_count": 3,
   "metadata": {
    "collapsed": false,
    "deletable": true,
    "editable": true
   },
   "outputs": [],
   "source": [
    "\"\"\"\n",
    "DON'T MODIFY ANYTHING IN THIS CELL\n",
    "\"\"\"\n",
    "import helper\n",
    "\n",
    "data_dir = './data/simpsons/moes_tavern_lines.txt'\n",
    "text = helper.load_data(data_dir)\n",
    "# Ignore notice, since we don't use it for analysing the data\n",
    "text = text[81:]"
   ]
  },
  {
   "cell_type": "markdown",
   "metadata": {
    "deletable": true,
    "editable": true
   },
   "source": [
    "## Explore the Data\n",
    "Play around with `view_sentence_range` to view different parts of the data."
   ]
  },
  {
   "cell_type": "code",
   "execution_count": 4,
   "metadata": {
    "collapsed": false,
    "deletable": true,
    "editable": true
   },
   "outputs": [
    {
     "name": "stdout",
     "output_type": "stream",
     "text": [
      "Dataset Stats\n",
      "Roughly the number of unique words: 11492\n",
      "Number of scenes: 262\n",
      "Average number of sentences in each scene: 15.248091603053435\n",
      "Number of lines: 4257\n",
      "Average number of words in each line: 11.50434578341555\n",
      "\n",
      "The sentences 0 to 10:\n",
      "Moe_Szyslak: (INTO PHONE) Moe's Tavern. Where the elite meet to drink.\n",
      "Bart_Simpson: Eh, yeah, hello, is Mike there? Last name, Rotch.\n",
      "Moe_Szyslak: (INTO PHONE) Hold on, I'll check. (TO BARFLIES) Mike Rotch. Mike Rotch. Hey, has anybody seen Mike Rotch, lately?\n",
      "Moe_Szyslak: (INTO PHONE) Listen you little puke. One of these days I'm gonna catch you, and I'm gonna carve my name on your back with an ice pick.\n",
      "Moe_Szyslak: What's the matter Homer? You're not your normal effervescent self.\n",
      "Homer_Simpson: I got my problems, Moe. Give me another one.\n",
      "Moe_Szyslak: Homer, hey, you should not drink to forget your problems.\n",
      "Barney_Gumble: Yeah, you should only drink to enhance your social skills.\n",
      "\n",
      "\n"
     ]
    }
   ],
   "source": [
    "view_sentence_range = (0, 10)\n",
    "\n",
    "\"\"\"\n",
    "DON'T MODIFY ANYTHING IN THIS CELL\n",
    "\"\"\"\n",
    "import numpy as np\n",
    "\n",
    "print('Dataset Stats')\n",
    "print('Roughly the number of unique words: {}'.format(len({word: None for word in text.split()})))\n",
    "scenes = text.split('\\n\\n')\n",
    "print('Number of scenes: {}'.format(len(scenes)))\n",
    "sentence_count_scene = [scene.count('\\n') for scene in scenes]\n",
    "print('Average number of sentences in each scene: {}'.format(np.average(sentence_count_scene)))\n",
    "\n",
    "sentences = [sentence for scene in scenes for sentence in scene.split('\\n')]\n",
    "print('Number of lines: {}'.format(len(sentences)))\n",
    "word_count_sentence = [len(sentence.split()) for sentence in sentences]\n",
    "print('Average number of words in each line: {}'.format(np.average(word_count_sentence)))\n",
    "\n",
    "print()\n",
    "print('The sentences {} to {}:'.format(*view_sentence_range))\n",
    "print('\\n'.join(text.split('\\n')[view_sentence_range[0]:view_sentence_range[1]]))"
   ]
  },
  {
   "cell_type": "markdown",
   "metadata": {
    "deletable": true,
    "editable": true
   },
   "source": [
    "## Implement Preprocessing Functions\n",
    "The first thing to do to any dataset is preprocessing.  Implement the following preprocessing functions below:\n",
    "- Lookup Table\n",
    "- Tokenize Punctuation\n",
    "\n",
    "### Lookup Table\n",
    "To create a word embedding, you first need to transform the words to ids.  In this function, create two dictionaries:\n",
    "- Dictionary to go from the words to an id, we'll call `vocab_to_int`\n",
    "- Dictionary to go from the id to word, we'll call `int_to_vocab`\n",
    "\n",
    "Return these dictionaries in the following tuple `(vocab_to_int, int_to_vocab)`"
   ]
  },
  {
   "cell_type": "code",
   "execution_count": 5,
   "metadata": {
    "collapsed": false,
    "deletable": true,
    "editable": true
   },
   "outputs": [
    {
     "name": "stdout",
     "output_type": "stream",
     "text": [
      "Tests Passed\n"
     ]
    }
   ],
   "source": [
    "import numpy as np\n",
    "import problem_unittests as tests\n",
    "\n",
    "def create_lookup_tables(text):\n",
    "    \"\"\"\n",
    "    Create lookup tables for vocabulary\n",
    "    :param text: The text of tv scripts split into words\n",
    "    :return: A tuple of dicts (vocab_to_int, int_to_vocab)\n",
    "    \"\"\"\n",
    "    # TODO: Implement Function\n",
    "    words = set(' '.join(text).split())\n",
    "    vocab_to_int = { word: idx for idx, word in enumerate(words) }\n",
    "    int_to_vocab = { idx: word for idx, word in enumerate(words) }\n",
    "    return vocab_to_int, int_to_vocab\n",
    "\n",
    "\n",
    "\"\"\"\n",
    "DON'T MODIFY ANYTHING IN THIS CELL THAT IS BELOW THIS LINE\n",
    "\"\"\"\n",
    "tests.test_create_lookup_tables(create_lookup_tables)"
   ]
  },
  {
   "cell_type": "markdown",
   "metadata": {
    "deletable": true,
    "editable": true
   },
   "source": [
    "### Tokenize Punctuation\n",
    "We'll be splitting the script into a word array using spaces as delimiters.  However, punctuations like periods and exclamation marks make it hard for the neural network to distinguish between the word \"bye\" and \"bye!\".\n",
    "\n",
    "Implement the function `token_lookup` to return a dict that will be used to tokenize symbols like \"!\" into \"||Exclamation_Mark||\".  Create a dictionary for the following symbols where the symbol is the key and value is the token:\n",
    "- Period ( . )\n",
    "- Comma ( , )\n",
    "- Quotation Mark ( \" )\n",
    "- Semicolon ( ; )\n",
    "- Exclamation mark ( ! )\n",
    "- Question mark ( ? )\n",
    "- Left Parentheses ( ( )\n",
    "- Right Parentheses ( ) )\n",
    "- Dash ( -- )\n",
    "- Return ( \\n )\n",
    "\n",
    "This dictionary will be used to token the symbols and add the delimiter (space) around it.  This separates the symbols as it's own word, making it easier for the neural network to predict on the next word. Make sure you don't use a token that could be confused as a word. Instead of using the token \"dash\", try using something like \"||dash||\"."
   ]
  },
  {
   "cell_type": "code",
   "execution_count": 6,
   "metadata": {
    "collapsed": false,
    "deletable": true,
    "editable": true
   },
   "outputs": [
    {
     "name": "stdout",
     "output_type": "stream",
     "text": [
      "Tests Passed\n"
     ]
    }
   ],
   "source": [
    "def token_lookup():\n",
    "    \"\"\"\n",
    "    Generate a dict to turn punctuation into a token.\n",
    "    :return: Tokenize dictionary where the key is the punctuation and the value is the token\n",
    "    \"\"\"\n",
    "    # TODO: Implement Function\n",
    "    return {\n",
    "        '.': '||period||',\n",
    "        ',': '||comma||',\n",
    "        '\"': '||quotation_mark||',\n",
    "        ';': '||semicolon||',\n",
    "        '!': '||exclamation_mark||',\n",
    "        '?': '||question_mark||',\n",
    "        '(': '||left_parentheses||',\n",
    "        ')': '||right_parentheses||',\n",
    "        '--': '||dash||',\n",
    "        '\\n': '||return||'\n",
    "    }\n",
    "\n",
    "\"\"\"\n",
    "DON'T MODIFY ANYTHING IN THIS CELL THAT IS BELOW THIS LINE\n",
    "\"\"\"\n",
    "tests.test_tokenize(token_lookup)"
   ]
  },
  {
   "cell_type": "markdown",
   "metadata": {
    "deletable": true,
    "editable": true
   },
   "source": [
    "## Preprocess all the data and save it\n",
    "Running the code cell below will preprocess all the data and save it to file."
   ]
  },
  {
   "cell_type": "code",
   "execution_count": 7,
   "metadata": {
    "collapsed": false,
    "deletable": true,
    "editable": true
   },
   "outputs": [],
   "source": [
    "\"\"\"\n",
    "DON'T MODIFY ANYTHING IN THIS CELL\n",
    "\"\"\"\n",
    "# Preprocess Training, Validation, and Testing Data\n",
    "helper.preprocess_and_save_data(data_dir, token_lookup, create_lookup_tables)"
   ]
  },
  {
   "cell_type": "markdown",
   "metadata": {
    "deletable": true,
    "editable": true
   },
   "source": [
    "# Check Point\n",
    "This is your first checkpoint. If you ever decide to come back to this notebook or have to restart the notebook, you can start from here. The preprocessed data has been saved to disk."
   ]
  },
  {
   "cell_type": "code",
   "execution_count": 8,
   "metadata": {
    "collapsed": false,
    "deletable": true,
    "editable": true
   },
   "outputs": [],
   "source": [
    "\"\"\"\n",
    "DON'T MODIFY ANYTHING IN THIS CELL\n",
    "\"\"\"\n",
    "import helper\n",
    "import numpy as np\n",
    "import problem_unittests as tests\n",
    "\n",
    "int_text, vocab_to_int, int_to_vocab, token_dict = helper.load_preprocess()"
   ]
  },
  {
   "cell_type": "markdown",
   "metadata": {
    "deletable": true,
    "editable": true
   },
   "source": [
    "## Build the Neural Network\n",
    "You'll build the components necessary to build a RNN by implementing the following functions below:\n",
    "- get_inputs\n",
    "- get_init_cell\n",
    "- get_embed\n",
    "- build_rnn\n",
    "- build_nn\n",
    "- get_batches\n",
    "\n",
    "### Check the Version of TensorFlow and Access to GPU"
   ]
  },
  {
   "cell_type": "code",
   "execution_count": 9,
   "metadata": {
    "collapsed": false,
    "deletable": true,
    "editable": true
   },
   "outputs": [
    {
     "name": "stdout",
     "output_type": "stream",
     "text": [
      "TensorFlow Version: 1.0.0\n",
      "Default GPU Device: /gpu:0\n"
     ]
    }
   ],
   "source": [
    "\"\"\"\n",
    "DON'T MODIFY ANYTHING IN THIS CELL\n",
    "\"\"\"\n",
    "from distutils.version import LooseVersion\n",
    "import warnings\n",
    "import tensorflow as tf\n",
    "\n",
    "# Check TensorFlow Version\n",
    "assert LooseVersion(tf.__version__) >= LooseVersion('1.0'), 'Please use TensorFlow version 1.0 or newer'\n",
    "print('TensorFlow Version: {}'.format(tf.__version__))\n",
    "\n",
    "# Check for a GPU\n",
    "if not tf.test.gpu_device_name():\n",
    "    warnings.warn('No GPU found. Please use a GPU to train your neural network.')\n",
    "else:\n",
    "    print('Default GPU Device: {}'.format(tf.test.gpu_device_name()))"
   ]
  },
  {
   "cell_type": "markdown",
   "metadata": {
    "deletable": true,
    "editable": true
   },
   "source": [
    "### Input\n",
    "Implement the `get_inputs()` function to create TF Placeholders for the Neural Network.  It should create the following placeholders:\n",
    "- Input text placeholder named \"input\" using the [TF Placeholder](https://www.tensorflow.org/api_docs/python/tf/placeholder) `name` parameter.\n",
    "- Targets placeholder\n",
    "- Learning Rate placeholder\n",
    "\n",
    "Return the placeholders in the following the tuple `(Input, Targets, LearingRate)`"
   ]
  },
  {
   "cell_type": "code",
   "execution_count": 10,
   "metadata": {
    "collapsed": false,
    "deletable": true,
    "editable": true
   },
   "outputs": [
    {
     "name": "stdout",
     "output_type": "stream",
     "text": [
      "Tests Passed\n"
     ]
    }
   ],
   "source": [
    "def get_inputs():\n",
    "    \"\"\"\n",
    "    Create TF Placeholders for input, targets, and learning rate.\n",
    "    :return: Tuple (input, targets, learning rate)\n",
    "    \"\"\"\n",
    "    # TODO: Implement Function\n",
    "    input = tf.placeholder(tf.int32, (None, None), name='input')\n",
    "    target = tf.placeholder(tf.int32, (None, None), name='target')\n",
    "    learning_rate = tf.placeholder(tf.float32, name='learning_rate')\n",
    "    return input, target, learning_rate\n",
    "\n",
    "\n",
    "\"\"\"\n",
    "DON'T MODIFY ANYTHING IN THIS CELL THAT IS BELOW THIS LINE\n",
    "\"\"\"\n",
    "tests.test_get_inputs(get_inputs)"
   ]
  },
  {
   "cell_type": "markdown",
   "metadata": {
    "deletable": true,
    "editable": true
   },
   "source": [
    "### Build RNN Cell and Initialize\n",
    "Stack one or more [`BasicLSTMCells`](https://www.tensorflow.org/api_docs/python/tf/contrib/rnn/BasicLSTMCell) in a [`MultiRNNCell`](https://www.tensorflow.org/api_docs/python/tf/contrib/rnn/MultiRNNCell).\n",
    "- The Rnn size should be set using `rnn_size`\n",
    "- Initalize Cell State using the MultiRNNCell's [`zero_state()`](https://www.tensorflow.org/api_docs/python/tf/contrib/rnn/MultiRNNCell#zero_state) function\n",
    "    - Apply the name \"initial_state\" to the initial state using [`tf.identity()`](https://www.tensorflow.org/api_docs/python/tf/identity)\n",
    "\n",
    "Return the cell and initial state in the following tuple `(Cell, InitialState)`"
   ]
  },
  {
   "cell_type": "code",
   "execution_count": 11,
   "metadata": {
    "collapsed": false,
    "deletable": true,
    "editable": true
   },
   "outputs": [
    {
     "name": "stdout",
     "output_type": "stream",
     "text": [
      "Tests Passed\n"
     ]
    }
   ],
   "source": [
    "def get_init_cell(batch_size, rnn_size):\n",
    "    \"\"\"\n",
    "    Create an RNN Cell and initialize it.\n",
    "    :param batch_size: Size of batches\n",
    "    :param rnn_size: Size of RNNs\n",
    "    :return: Tuple (cell, initialize state)\n",
    "    \"\"\"\n",
    "    # TODO: Implement Function\n",
    "    cell = tf.contrib.rnn.BasicLSTMCell(rnn_size)\n",
    "    multi = tf.contrib.rnn.MultiRNNCell([cell] * 3)\n",
    "    initial_state = tf.identity(multi.zero_state(batch_size, tf.float32), name='initial_state')\n",
    "    return multi, initial_state\n",
    "\n",
    "\n",
    "\"\"\"\n",
    "DON'T MODIFY ANYTHING IN THIS CELL THAT IS BELOW THIS LINE\n",
    "\"\"\"\n",
    "tests.test_get_init_cell(get_init_cell)"
   ]
  },
  {
   "cell_type": "markdown",
   "metadata": {
    "deletable": true,
    "editable": true
   },
   "source": [
    "### Word Embedding\n",
    "Apply embedding to `input_data` using TensorFlow.  Return the embedded sequence."
   ]
  },
  {
   "cell_type": "code",
   "execution_count": 12,
   "metadata": {
    "collapsed": false,
    "deletable": true,
    "editable": true
   },
   "outputs": [
    {
     "name": "stdout",
     "output_type": "stream",
     "text": [
      "Tests Passed\n"
     ]
    }
   ],
   "source": [
    "def get_embed(input_data, vocab_size, embed_dim):\n",
    "    \"\"\"\n",
    "    Create embedding for <input_data>.\n",
    "    :param input_data: TF placeholder for text input.\n",
    "    :param vocab_size: Number of words in vocabulary.\n",
    "    :param embed_dim: Number of embedding dimensions\n",
    "    :return: Embedded input.\n",
    "    \"\"\"\n",
    "    # TODO: Implement Function\n",
    "    embedding = tf.Variable(tf.random_uniform((vocab_size, embed_dim), -1., 1.), name='embedding')\n",
    "    embed = tf.nn.embedding_lookup(embedding, input_data)\n",
    "    return embed\n",
    "\n",
    "\n",
    "\"\"\"\n",
    "DON'T MODIFY ANYTHING IN THIS CELL THAT IS BELOW THIS LINE\n",
    "\"\"\"\n",
    "tests.test_get_embed(get_embed)"
   ]
  },
  {
   "cell_type": "markdown",
   "metadata": {
    "deletable": true,
    "editable": true
   },
   "source": [
    "### Build RNN\n",
    "You created a RNN Cell in the `get_init_cell()` function.  Time to use the cell to create a RNN.\n",
    "- Build the RNN using the [`tf.nn.dynamic_rnn()`](https://www.tensorflow.org/api_docs/python/tf/nn/dynamic_rnn)\n",
    " - Apply the name \"final_state\" to the final state using [`tf.identity()`](https://www.tensorflow.org/api_docs/python/tf/identity)\n",
    "\n",
    "Return the outputs and final_state state in the following tuple `(Outputs, FinalState)` "
   ]
  },
  {
   "cell_type": "code",
   "execution_count": 13,
   "metadata": {
    "collapsed": false,
    "deletable": true,
    "editable": true
   },
   "outputs": [
    {
     "name": "stdout",
     "output_type": "stream",
     "text": [
      "Tests Passed\n"
     ]
    }
   ],
   "source": [
    "def build_rnn(cell, inputs):\n",
    "    \"\"\"\n",
    "    Create a RNN using a RNN Cell\n",
    "    :param cell: RNN Cell\n",
    "    :param inputs: Input text data\n",
    "    :return: Tuple (Outputs, Final State)\n",
    "    \"\"\"\n",
    "    # TODO: Implement Function\n",
    "    outputs, final_state = tf.nn.dynamic_rnn(cell, inputs, dtype=tf.float32)\n",
    "    final_state = tf.identity(final_state, name='final_state')\n",
    "    return outputs, final_state\n",
    "\n",
    "\n",
    "\"\"\"\n",
    "DON'T MODIFY ANYTHING IN THIS CELL THAT IS BELOW THIS LINE\n",
    "\"\"\"\n",
    "tests.test_build_rnn(build_rnn)"
   ]
  },
  {
   "cell_type": "markdown",
   "metadata": {
    "deletable": true,
    "editable": true
   },
   "source": [
    "### Build the Neural Network\n",
    "Apply the functions you implemented above to:\n",
    "- Apply embedding to `input_data` using your `get_embed(input_data, vocab_size, embed_dim)` function.\n",
    "- Build RNN using `cell` and your `build_rnn(cell, inputs)` function.\n",
    "- Apply a fully connected layer with a linear activation and `vocab_size` as the number of outputs.\n",
    "\n",
    "Return the logits and final state in the following tuple (Logits, FinalState) "
   ]
  },
  {
   "cell_type": "code",
   "execution_count": 14,
   "metadata": {
    "collapsed": false,
    "deletable": true,
    "editable": true
   },
   "outputs": [
    {
     "name": "stdout",
     "output_type": "stream",
     "text": [
      "Tests Passed\n"
     ]
    }
   ],
   "source": [
    "def build_nn(cell, rnn_size, input_data, vocab_size, embed_dim=200):\n",
    "    \"\"\"\n",
    "    Build part of the neural network\n",
    "    :param cell: RNN cell\n",
    "    :param rnn_size: Size of rnns\n",
    "    :param input_data: Input data\n",
    "    :param vocab_size: Vocabulary size\n",
    "    :return: Tuple (Logits, FinalState)\n",
    "    \"\"\"\n",
    "    # TODO: Implement Function\n",
    "    embed = get_embed(input_data, vocab_size, embed_dim)\n",
    "    outputs, final_state = build_rnn(cell, embed)\n",
    "    logits = tf.contrib.layers.fully_connected(outputs, vocab_size, activation_fn=None) \n",
    "    return logits, final_state\n",
    "\n",
    "\n",
    "\"\"\"\n",
    "DON'T MODIFY ANYTHING IN THIS CELL THAT IS BELOW THIS LINE\n",
    "\"\"\"\n",
    "tests.test_build_nn(build_nn)"
   ]
  },
  {
   "cell_type": "markdown",
   "metadata": {
    "deletable": true,
    "editable": true
   },
   "source": [
    "### Batches\n",
    "Implement `get_batches` to create batches of input and targets using `int_text`.  The batches should be a Numpy array with the shape `(number of batches, 2, batch size, sequence length)`. Each batch contains two elements:\n",
    "- The first element is a single batch of **input** with the shape `[batch size, sequence length]`\n",
    "- The second element is a single batch of **targets** with the shape `[batch size, sequence length]`\n",
    "\n",
    "If you can't fill the last batch with enough data, drop the last batch.\n",
    "\n",
    "For exmple, `get_batches([1, 2, 3, 4, 5, 6, 7, 8, 9, 10, 11, 12, 13, 14, 15], 2, 3)` would return a Numpy array of the following:\n",
    "```\n",
    "[\n",
    "  # First Batch\n",
    "  [\n",
    "    # Batch of Input\n",
    "    [[ 1  2  3], [ 7  8  9]],\n",
    "    # Batch of targets\n",
    "    [[ 2  3  4], [ 8  9 10]]\n",
    "  ],\n",
    " \n",
    "  # Second Batch\n",
    "  [\n",
    "    # Batch of Input\n",
    "    [[ 4  5  6], [10 11 12]],\n",
    "    # Batch of targets\n",
    "    [[ 5  6  7], [11 12 13]]\n",
    "  ]\n",
    "]\n",
    "```"
   ]
  },
  {
   "cell_type": "code",
   "execution_count": 15,
   "metadata": {
    "collapsed": false,
    "deletable": true,
    "editable": true
   },
   "outputs": [
    {
     "name": "stdout",
     "output_type": "stream",
     "text": [
      "Tests Passed\n"
     ]
    }
   ],
   "source": [
    "def get_batches(int_text, batch_size, seq_length):\n",
    "    \"\"\"\n",
    "    Return batches of input and target\n",
    "    :param int_text: Text with the words replaced by their ids\n",
    "    :param batch_size: The size of batch\n",
    "    :param seq_length: The length of sequence\n",
    "    :return: Batches as a Numpy array\n",
    "    \"\"\"\n",
    "    # TODO: Implement Function\n",
    "    n_batches = (len(int_text) - 1) // (batch_size * seq_length)\n",
    "    input = np.array(int_text)[:n_batches * batch_size * seq_length + 1]\n",
    "    x, y = input[:-1], input[1:]\n",
    "    x = x.reshape(batch_size, n_batches, seq_length).transpose(1,0,2)\n",
    "    y = y.reshape(batch_size, n_batches, seq_length).transpose(1,0,2)\n",
    "    batches = np.concatenate((x[:,None,:,:], y[:,None,:,:]), axis=1)\n",
    "    return batches\n",
    "\n",
    "\"\"\"\n",
    "DON'T MODIFY ANYTHING IN THIS CELL THAT IS BELOW THIS LINE\n",
    "\"\"\"\n",
    "tests.test_get_batches(get_batches)"
   ]
  },
  {
   "cell_type": "markdown",
   "metadata": {
    "deletable": true,
    "editable": true
   },
   "source": [
    "## Neural Network Training\n",
    "### Hyperparameters\n",
    "Tune the following parameters:\n",
    "\n",
    "- Set `num_epochs` to the number of epochs.\n",
    "- Set `batch_size` to the batch size.\n",
    "- Set `rnn_size` to the size of the RNNs.\n",
    "- Set `seq_length` to the length of sequence.\n",
    "- Set `learning_rate` to the learning rate.\n",
    "- Set `show_every_n_batches` to the number of batches the neural network should print progress."
   ]
  },
  {
   "cell_type": "code",
   "execution_count": 45,
   "metadata": {
    "collapsed": true,
    "deletable": true,
    "editable": true
   },
   "outputs": [],
   "source": [
    "# Number of Epochs\n",
    "num_epochs = 300\n",
    "# Batch Size\n",
    "batch_size = 256\n",
    "# RNN Size\n",
    "rnn_size = 256\n",
    "# Sequence Length\n",
    "seq_length = 35\n",
    "# Learning Rate\n",
    "learning_rate = 0.005\n",
    "# Show stats for every n number of batches\n",
    "show_every_n_batches = 5\n",
    "\n",
    "\"\"\"\n",
    "DON'T MODIFY ANYTHING IN THIS CELL THAT IS BELOW THIS LINE\n",
    "\"\"\"\n",
    "save_dir = './save'"
   ]
  },
  {
   "cell_type": "markdown",
   "metadata": {
    "deletable": true,
    "editable": true
   },
   "source": [
    "### Build the Graph\n",
    "Build the graph using the neural network you implemented."
   ]
  },
  {
   "cell_type": "code",
   "execution_count": 46,
   "metadata": {
    "collapsed": false,
    "deletable": true,
    "editable": true
   },
   "outputs": [],
   "source": [
    "\"\"\"\n",
    "DON'T MODIFY ANYTHING IN THIS CELL\n",
    "\"\"\"\n",
    "from tensorflow.contrib import seq2seq\n",
    "\n",
    "train_graph = tf.Graph()\n",
    "with train_graph.as_default():\n",
    "    vocab_size = len(int_to_vocab)\n",
    "    input_text, targets, lr = get_inputs()\n",
    "    input_data_shape = tf.shape(input_text)\n",
    "    cell, initial_state = get_init_cell(input_data_shape[0], rnn_size)\n",
    "    logits, final_state = build_nn(cell, rnn_size, input_text, vocab_size)\n",
    "\n",
    "    # Probabilities for generating words\n",
    "    probs = tf.nn.softmax(logits, name='probs')\n",
    "\n",
    "    # Loss function\n",
    "    cost = seq2seq.sequence_loss(\n",
    "        logits,\n",
    "        targets,\n",
    "        tf.ones([input_data_shape[0], input_data_shape[1]]))\n",
    "    tf.summary.scalar('cost', cost)\n",
    "    \n",
    "    # Optimizer\n",
    "    optimizer = tf.train.AdamOptimizer(lr)\n",
    "\n",
    "    # Gradient Clipping\n",
    "    gradients = optimizer.compute_gradients(cost)\n",
    "    capped_gradients = [(tf.clip_by_value(grad, -1., 1.), var) for grad, var in gradients]\n",
    "    train_op = optimizer.apply_gradients(capped_gradients)"
   ]
  },
  {
   "cell_type": "markdown",
   "metadata": {
    "deletable": true,
    "editable": true
   },
   "source": [
    "## Train\n",
    "Train the neural network on the preprocessed data.  If you have a hard time getting a good loss, check the [forms](https://discussions.udacity.com/) to see if anyone is having the same problem."
   ]
  },
  {
   "cell_type": "code",
   "execution_count": 47,
   "metadata": {
    "collapsed": false,
    "deletable": true,
    "editable": true,
    "scrolled": false
   },
   "outputs": [
    {
     "name": "stdout",
     "output_type": "stream",
     "text": [
      "Epoch   0 Batch    0/7   train_loss = 8.822\n",
      "Epoch   0 Batch    5/7   train_loss = 6.267\n",
      "Epoch   1 Batch    3/7   train_loss = 6.311\n",
      "Epoch   2 Batch    1/7   train_loss = 6.185\n",
      "Epoch   2 Batch    6/7   train_loss = 5.977\n",
      "Epoch   3 Batch    4/7   train_loss = 5.983\n",
      "Epoch   4 Batch    2/7   train_loss = 5.945\n",
      "Epoch   5 Batch    0/7   train_loss = 5.910\n",
      "Epoch   5 Batch    5/7   train_loss = 5.901\n",
      "Epoch   6 Batch    3/7   train_loss = 5.981\n",
      "Epoch   7 Batch    1/7   train_loss = 5.953\n",
      "Epoch   7 Batch    6/7   train_loss = 5.920\n",
      "Epoch   8 Batch    4/7   train_loss = 5.934\n",
      "Epoch   9 Batch    2/7   train_loss = 5.914\n",
      "Epoch  10 Batch    0/7   train_loss = 5.875\n",
      "Epoch  10 Batch    5/7   train_loss = 5.843\n",
      "Epoch  11 Batch    3/7   train_loss = 5.898\n",
      "Epoch  12 Batch    1/7   train_loss = 5.832\n",
      "Epoch  12 Batch    6/7   train_loss = 5.763\n",
      "Epoch  13 Batch    4/7   train_loss = 5.740\n",
      "Epoch  14 Batch    2/7   train_loss = 5.699\n",
      "Epoch  15 Batch    0/7   train_loss = 5.629\n",
      "Epoch  15 Batch    5/7   train_loss = 5.590\n",
      "Epoch  16 Batch    3/7   train_loss = 5.661\n",
      "Epoch  17 Batch    1/7   train_loss = 5.591\n",
      "Epoch  17 Batch    6/7   train_loss = 5.547\n",
      "Epoch  18 Batch    4/7   train_loss = 5.532\n",
      "Epoch  19 Batch    2/7   train_loss = 5.487\n",
      "Epoch  20 Batch    0/7   train_loss = 5.436\n",
      "Epoch  20 Batch    5/7   train_loss = 5.404\n",
      "Epoch  21 Batch    3/7   train_loss = 5.468\n",
      "Epoch  22 Batch    1/7   train_loss = 5.418\n",
      "Epoch  22 Batch    6/7   train_loss = 5.356\n",
      "Epoch  23 Batch    4/7   train_loss = 5.365\n",
      "Epoch  24 Batch    2/7   train_loss = 5.335\n",
      "Epoch  25 Batch    0/7   train_loss = 5.264\n",
      "Epoch  25 Batch    5/7   train_loss = 5.231\n",
      "Epoch  26 Batch    3/7   train_loss = 5.275\n",
      "Epoch  27 Batch    1/7   train_loss = 5.213\n",
      "Epoch  27 Batch    6/7   train_loss = 5.133\n",
      "Epoch  28 Batch    4/7   train_loss = 5.121\n",
      "Epoch  29 Batch    2/7   train_loss = 5.093\n",
      "Epoch  30 Batch    0/7   train_loss = 5.008\n",
      "Epoch  30 Batch    5/7   train_loss = 5.008\n",
      "Epoch  31 Batch    3/7   train_loss = 5.072\n",
      "Epoch  32 Batch    1/7   train_loss = 4.980\n",
      "Epoch  32 Batch    6/7   train_loss = 4.919\n",
      "Epoch  33 Batch    4/7   train_loss = 4.921\n",
      "Epoch  34 Batch    2/7   train_loss = 4.870\n",
      "Epoch  35 Batch    0/7   train_loss = 4.808\n",
      "Epoch  35 Batch    5/7   train_loss = 4.791\n",
      "Epoch  36 Batch    3/7   train_loss = 4.852\n",
      "Epoch  37 Batch    1/7   train_loss = 4.782\n",
      "Epoch  37 Batch    6/7   train_loss = 4.755\n",
      "Epoch  38 Batch    4/7   train_loss = 4.772\n",
      "Epoch  39 Batch    2/7   train_loss = 4.707\n",
      "Epoch  40 Batch    0/7   train_loss = 4.616\n",
      "Epoch  40 Batch    5/7   train_loss = 4.612\n",
      "Epoch  41 Batch    3/7   train_loss = 4.665\n",
      "Epoch  42 Batch    1/7   train_loss = 4.610\n",
      "Epoch  42 Batch    6/7   train_loss = 4.563\n",
      "Epoch  43 Batch    4/7   train_loss = 4.553\n",
      "Epoch  44 Batch    2/7   train_loss = 4.528\n",
      "Epoch  45 Batch    0/7   train_loss = 4.481\n",
      "Epoch  45 Batch    5/7   train_loss = 4.494\n",
      "Epoch  46 Batch    3/7   train_loss = 4.525\n",
      "Epoch  47 Batch    1/7   train_loss = 4.477\n",
      "Epoch  47 Batch    6/7   train_loss = 4.471\n",
      "Epoch  48 Batch    4/7   train_loss = 4.523\n",
      "Epoch  49 Batch    2/7   train_loss = 4.479\n",
      "Epoch  50 Batch    0/7   train_loss = 4.390\n",
      "Epoch  50 Batch    5/7   train_loss = 4.457\n",
      "Epoch  51 Batch    3/7   train_loss = 4.551\n",
      "Epoch  52 Batch    1/7   train_loss = 4.576\n",
      "Epoch  52 Batch    6/7   train_loss = 4.565\n",
      "Epoch  53 Batch    4/7   train_loss = 4.562\n",
      "Epoch  54 Batch    2/7   train_loss = 4.401\n",
      "Epoch  55 Batch    0/7   train_loss = 4.252\n",
      "Epoch  55 Batch    5/7   train_loss = 4.232\n",
      "Epoch  56 Batch    3/7   train_loss = 4.259\n",
      "Epoch  57 Batch    1/7   train_loss = 4.217\n",
      "Epoch  57 Batch    6/7   train_loss = 4.130\n",
      "Epoch  58 Batch    4/7   train_loss = 4.136\n",
      "Epoch  59 Batch    2/7   train_loss = 4.128\n",
      "Epoch  60 Batch    0/7   train_loss = 4.052\n",
      "Epoch  60 Batch    5/7   train_loss = 4.064\n",
      "Epoch  61 Batch    3/7   train_loss = 4.162\n",
      "Epoch  62 Batch    1/7   train_loss = 4.140\n",
      "Epoch  62 Batch    6/7   train_loss = 4.065\n",
      "Epoch  63 Batch    4/7   train_loss = 4.061\n",
      "Epoch  64 Batch    2/7   train_loss = 4.021\n",
      "Epoch  65 Batch    0/7   train_loss = 3.971\n",
      "Epoch  65 Batch    5/7   train_loss = 3.953\n",
      "Epoch  66 Batch    3/7   train_loss = 3.965\n",
      "Epoch  67 Batch    1/7   train_loss = 3.939\n",
      "Epoch  67 Batch    6/7   train_loss = 3.890\n",
      "Epoch  68 Batch    4/7   train_loss = 3.902\n",
      "Epoch  69 Batch    2/7   train_loss = 3.866\n",
      "Epoch  70 Batch    0/7   train_loss = 3.803\n",
      "Epoch  70 Batch    5/7   train_loss = 3.811\n",
      "Epoch  71 Batch    3/7   train_loss = 3.835\n",
      "Epoch  72 Batch    1/7   train_loss = 3.839\n",
      "Epoch  72 Batch    6/7   train_loss = 3.864\n",
      "Epoch  73 Batch    4/7   train_loss = 3.872\n",
      "Epoch  74 Batch    2/7   train_loss = 3.812\n",
      "Epoch  75 Batch    0/7   train_loss = 3.871\n",
      "Epoch  75 Batch    5/7   train_loss = 3.921\n",
      "Epoch  76 Batch    3/7   train_loss = 3.919\n",
      "Epoch  77 Batch    1/7   train_loss = 3.783\n",
      "Epoch  77 Batch    6/7   train_loss = 3.709\n",
      "Epoch  78 Batch    4/7   train_loss = 3.675\n",
      "Epoch  79 Batch    2/7   train_loss = 3.645\n",
      "Epoch  80 Batch    0/7   train_loss = 3.580\n",
      "Epoch  80 Batch    5/7   train_loss = 3.563\n",
      "Epoch  81 Batch    3/7   train_loss = 3.578\n",
      "Epoch  82 Batch    1/7   train_loss = 3.569\n",
      "Epoch  82 Batch    6/7   train_loss = 3.550\n",
      "Epoch  83 Batch    4/7   train_loss = 3.565\n",
      "Epoch  84 Batch    2/7   train_loss = 3.503\n",
      "Epoch  85 Batch    0/7   train_loss = 3.441\n",
      "Epoch  85 Batch    5/7   train_loss = 3.522\n",
      "Epoch  86 Batch    3/7   train_loss = 3.609\n",
      "Epoch  87 Batch    1/7   train_loss = 3.567\n",
      "Epoch  87 Batch    6/7   train_loss = 3.501\n",
      "Epoch  88 Batch    4/7   train_loss = 3.471\n",
      "Epoch  89 Batch    2/7   train_loss = 3.419\n",
      "Epoch  90 Batch    0/7   train_loss = 3.350\n",
      "Epoch  90 Batch    5/7   train_loss = 3.350\n",
      "Epoch  91 Batch    3/7   train_loss = 3.368\n",
      "Epoch  92 Batch    1/7   train_loss = 3.348\n",
      "Epoch  92 Batch    6/7   train_loss = 3.315\n",
      "Epoch  93 Batch    4/7   train_loss = 3.335\n",
      "Epoch  94 Batch    2/7   train_loss = 3.269\n",
      "Epoch  95 Batch    0/7   train_loss = 3.183\n",
      "Epoch  95 Batch    5/7   train_loss = 3.216\n",
      "Epoch  96 Batch    3/7   train_loss = 3.271\n",
      "Epoch  97 Batch    1/7   train_loss = 3.290\n",
      "Epoch  97 Batch    6/7   train_loss = 3.210\n",
      "Epoch  98 Batch    4/7   train_loss = 3.181\n",
      "Epoch  99 Batch    2/7   train_loss = 3.171\n",
      "Epoch 100 Batch    0/7   train_loss = 3.118\n",
      "Epoch 100 Batch    5/7   train_loss = 3.134\n",
      "Epoch 101 Batch    3/7   train_loss = 3.112\n",
      "Epoch 102 Batch    1/7   train_loss = 3.112\n",
      "Epoch 102 Batch    6/7   train_loss = 3.084\n",
      "Epoch 103 Batch    4/7   train_loss = 3.116\n",
      "Epoch 104 Batch    2/7   train_loss = 3.158\n",
      "Epoch 105 Batch    0/7   train_loss = 3.107\n",
      "Epoch 105 Batch    5/7   train_loss = 3.089\n",
      "Epoch 106 Batch    3/7   train_loss = 3.036\n",
      "Epoch 107 Batch    1/7   train_loss = 2.969\n",
      "Epoch 107 Batch    6/7   train_loss = 2.937\n",
      "Epoch 108 Batch    4/7   train_loss = 2.951\n",
      "Epoch 109 Batch    2/7   train_loss = 2.920\n",
      "Epoch 110 Batch    0/7   train_loss = 2.838\n",
      "Epoch 110 Batch    5/7   train_loss = 2.892\n",
      "Epoch 111 Batch    3/7   train_loss = 2.963\n",
      "Epoch 112 Batch    1/7   train_loss = 2.943\n",
      "Epoch 112 Batch    6/7   train_loss = 2.850\n",
      "Epoch 113 Batch    4/7   train_loss = 2.768\n",
      "Epoch 114 Batch    2/7   train_loss = 2.756\n",
      "Epoch 115 Batch    0/7   train_loss = 2.710\n",
      "Epoch 115 Batch    5/7   train_loss = 2.754\n",
      "Epoch 116 Batch    3/7   train_loss = 2.780\n",
      "Epoch 117 Batch    1/7   train_loss = 2.698\n",
      "Epoch 117 Batch    6/7   train_loss = 2.638\n",
      "Epoch 118 Batch    4/7   train_loss = 2.625\n",
      "Epoch 119 Batch    2/7   train_loss = 2.625\n",
      "Epoch 120 Batch    0/7   train_loss = 2.568\n",
      "Epoch 120 Batch    5/7   train_loss = 2.600\n",
      "Epoch 121 Batch    3/7   train_loss = 2.592\n",
      "Epoch 122 Batch    1/7   train_loss = 2.551\n",
      "Epoch 122 Batch    6/7   train_loss = 2.520\n",
      "Epoch 123 Batch    4/7   train_loss = 2.626\n",
      "Epoch 124 Batch    2/7   train_loss = 2.801\n",
      "Epoch 125 Batch    0/7   train_loss = 2.793\n",
      "Epoch 125 Batch    5/7   train_loss = 2.764\n",
      "Epoch 126 Batch    3/7   train_loss = 2.635\n",
      "Epoch 127 Batch    1/7   train_loss = 2.577\n",
      "Epoch 127 Batch    6/7   train_loss = 2.509\n",
      "Epoch 128 Batch    4/7   train_loss = 2.457\n",
      "Epoch 129 Batch    2/7   train_loss = 2.424\n",
      "Epoch 130 Batch    0/7   train_loss = 2.320\n",
      "Epoch 130 Batch    5/7   train_loss = 2.335\n",
      "Epoch 131 Batch    3/7   train_loss = 2.315\n",
      "Epoch 132 Batch    1/7   train_loss = 2.255\n",
      "Epoch 132 Batch    6/7   train_loss = 2.260\n",
      "Epoch 133 Batch    4/7   train_loss = 2.322\n",
      "Epoch 134 Batch    2/7   train_loss = 2.368\n",
      "Epoch 135 Batch    0/7   train_loss = 2.267\n",
      "Epoch 135 Batch    5/7   train_loss = 2.259\n",
      "Epoch 136 Batch    3/7   train_loss = 2.296\n",
      "Epoch 137 Batch    1/7   train_loss = 2.323\n",
      "Epoch 137 Batch    6/7   train_loss = 2.341\n",
      "Epoch 138 Batch    4/7   train_loss = 2.338\n",
      "Epoch 139 Batch    2/7   train_loss = 2.281\n",
      "Epoch 140 Batch    0/7   train_loss = 2.175\n",
      "Epoch 140 Batch    5/7   train_loss = 2.145\n",
      "Epoch 141 Batch    3/7   train_loss = 2.129\n",
      "Epoch 142 Batch    1/7   train_loss = 2.123\n",
      "Epoch 142 Batch    6/7   train_loss = 2.106\n",
      "Epoch 143 Batch    4/7   train_loss = 2.068\n",
      "Epoch 144 Batch    2/7   train_loss = 2.069\n",
      "Epoch 145 Batch    0/7   train_loss = 2.012\n",
      "Epoch 145 Batch    5/7   train_loss = 2.049\n",
      "Epoch 146 Batch    3/7   train_loss = 2.020\n",
      "Epoch 147 Batch    1/7   train_loss = 2.022\n",
      "Epoch 147 Batch    6/7   train_loss = 2.050\n",
      "Epoch 148 Batch    4/7   train_loss = 2.004\n",
      "Epoch 149 Batch    2/7   train_loss = 1.988\n",
      "Epoch 150 Batch    0/7   train_loss = 1.984\n",
      "Epoch 150 Batch    5/7   train_loss = 2.073\n",
      "Epoch 151 Batch    3/7   train_loss = 2.088\n",
      "Epoch 152 Batch    1/7   train_loss = 2.018\n",
      "Epoch 152 Batch    6/7   train_loss = 1.967\n",
      "Epoch 153 Batch    4/7   train_loss = 1.921\n",
      "Epoch 154 Batch    2/7   train_loss = 1.920\n",
      "Epoch 155 Batch    0/7   train_loss = 1.858\n",
      "Epoch 155 Batch    5/7   train_loss = 1.880\n",
      "Epoch 156 Batch    3/7   train_loss = 1.824\n",
      "Epoch 157 Batch    1/7   train_loss = 1.814\n",
      "Epoch 157 Batch    6/7   train_loss = 1.822\n",
      "Epoch 158 Batch    4/7   train_loss = 1.798\n",
      "Epoch 159 Batch    2/7   train_loss = 1.795\n",
      "Epoch 160 Batch    0/7   train_loss = 1.731\n",
      "Epoch 160 Batch    5/7   train_loss = 1.757\n",
      "Epoch 161 Batch    3/7   train_loss = 1.698\n",
      "Epoch 162 Batch    1/7   train_loss = 1.649\n",
      "Epoch 162 Batch    6/7   train_loss = 1.622\n",
      "Epoch 163 Batch    4/7   train_loss = 1.624\n",
      "Epoch 164 Batch    2/7   train_loss = 1.651\n",
      "Epoch 165 Batch    0/7   train_loss = 1.625\n",
      "Epoch 165 Batch    5/7   train_loss = 1.636\n",
      "Epoch 166 Batch    3/7   train_loss = 1.584\n",
      "Epoch 167 Batch    1/7   train_loss = 1.598\n",
      "Epoch 167 Batch    6/7   train_loss = 1.621\n",
      "Epoch 168 Batch    4/7   train_loss = 1.626\n",
      "Epoch 169 Batch    2/7   train_loss = 1.623\n",
      "Epoch 170 Batch    0/7   train_loss = 1.639\n",
      "Epoch 170 Batch    5/7   train_loss = 1.737\n",
      "Epoch 171 Batch    3/7   train_loss = 1.643\n",
      "Epoch 172 Batch    1/7   train_loss = 1.553\n",
      "Epoch 172 Batch    6/7   train_loss = 1.538\n",
      "Epoch 173 Batch    4/7   train_loss = 1.575\n",
      "Epoch 174 Batch    2/7   train_loss = 1.593\n",
      "Epoch 175 Batch    0/7   train_loss = 1.525\n",
      "Epoch 175 Batch    5/7   train_loss = 1.504\n",
      "Epoch 176 Batch    3/7   train_loss = 1.444\n",
      "Epoch 177 Batch    1/7   train_loss = 1.423\n",
      "Epoch 177 Batch    6/7   train_loss = 1.424\n",
      "Epoch 178 Batch    4/7   train_loss = 1.404\n",
      "Epoch 179 Batch    2/7   train_loss = 1.401\n",
      "Epoch 180 Batch    0/7   train_loss = 1.335\n",
      "Epoch 180 Batch    5/7   train_loss = 1.341\n",
      "Epoch 181 Batch    3/7   train_loss = 1.283\n",
      "Epoch 182 Batch    1/7   train_loss = 1.256\n",
      "Epoch 182 Batch    6/7   train_loss = 1.269\n",
      "Epoch 183 Batch    4/7   train_loss = 1.244\n",
      "Epoch 184 Batch    2/7   train_loss = 1.251\n",
      "Epoch 185 Batch    0/7   train_loss = 1.235\n",
      "Epoch 185 Batch    5/7   train_loss = 1.322\n",
      "Epoch 186 Batch    3/7   train_loss = 1.337\n",
      "Epoch 187 Batch    1/7   train_loss = 1.307\n",
      "Epoch 187 Batch    6/7   train_loss = 1.341\n",
      "Epoch 188 Batch    4/7   train_loss = 1.404\n",
      "Epoch 189 Batch    2/7   train_loss = 1.484\n",
      "Epoch 190 Batch    0/7   train_loss = 1.458\n",
      "Epoch 190 Batch    5/7   train_loss = 1.430\n",
      "Epoch 191 Batch    3/7   train_loss = 1.337\n",
      "Epoch 192 Batch    1/7   train_loss = 1.271\n",
      "Epoch 192 Batch    6/7   train_loss = 1.243\n",
      "Epoch 193 Batch    4/7   train_loss = 1.201\n",
      "Epoch 194 Batch    2/7   train_loss = 1.183\n",
      "Epoch 195 Batch    0/7   train_loss = 1.138\n",
      "Epoch 195 Batch    5/7   train_loss = 1.146\n",
      "Epoch 196 Batch    3/7   train_loss = 1.095\n",
      "Epoch 197 Batch    1/7   train_loss = 1.056\n",
      "Epoch 197 Batch    6/7   train_loss = 1.047\n",
      "Epoch 198 Batch    4/7   train_loss = 1.035\n",
      "Epoch 199 Batch    2/7   train_loss = 1.033\n",
      "Epoch 200 Batch    0/7   train_loss = 1.011\n",
      "Epoch 200 Batch    5/7   train_loss = 1.050\n",
      "Epoch 201 Batch    3/7   train_loss = 1.033\n",
      "Epoch 202 Batch    1/7   train_loss = 1.059\n",
      "Epoch 202 Batch    6/7   train_loss = 1.083\n",
      "Epoch 203 Batch    4/7   train_loss = 1.069\n",
      "Epoch 204 Batch    2/7   train_loss = 1.016\n",
      "Epoch 205 Batch    0/7   train_loss = 0.980\n",
      "Epoch 205 Batch    5/7   train_loss = 1.068\n",
      "Epoch 206 Batch    3/7   train_loss = 1.119\n",
      "Epoch 207 Batch    1/7   train_loss = 1.159\n",
      "Epoch 207 Batch    6/7   train_loss = 1.137\n",
      "Epoch 208 Batch    4/7   train_loss = 1.083\n",
      "Epoch 209 Batch    2/7   train_loss = 1.062\n",
      "Epoch 210 Batch    0/7   train_loss = 1.001\n",
      "Epoch 210 Batch    5/7   train_loss = 1.031\n",
      "Epoch 211 Batch    3/7   train_loss = 0.982\n",
      "Epoch 212 Batch    1/7   train_loss = 0.945\n",
      "Epoch 212 Batch    6/7   train_loss = 0.914\n",
      "Epoch 213 Batch    4/7   train_loss = 0.896\n",
      "Epoch 214 Batch    2/7   train_loss = 0.862\n",
      "Epoch 215 Batch    0/7   train_loss = 0.809\n",
      "Epoch 215 Batch    5/7   train_loss = 0.812\n",
      "Epoch 216 Batch    3/7   train_loss = 0.778\n",
      "Epoch 217 Batch    1/7   train_loss = 0.766\n",
      "Epoch 217 Batch    6/7   train_loss = 0.768\n",
      "Epoch 218 Batch    4/7   train_loss = 0.776\n",
      "Epoch 219 Batch    2/7   train_loss = 0.770\n",
      "Epoch 220 Batch    0/7   train_loss = 0.725\n",
      "Epoch 220 Batch    5/7   train_loss = 0.741\n",
      "Epoch 221 Batch    3/7   train_loss = 0.717\n",
      "Epoch 222 Batch    1/7   train_loss = 0.703\n",
      "Epoch 222 Batch    6/7   train_loss = 0.702\n",
      "Epoch 223 Batch    4/7   train_loss = 0.733\n",
      "Epoch 224 Batch    2/7   train_loss = 0.745\n",
      "Epoch 225 Batch    0/7   train_loss = 0.736\n",
      "Epoch 225 Batch    5/7   train_loss = 0.749\n",
      "Epoch 226 Batch    3/7   train_loss = 0.719\n",
      "Epoch 227 Batch    1/7   train_loss = 0.779\n",
      "Epoch 227 Batch    6/7   train_loss = 0.860\n",
      "Epoch 228 Batch    4/7   train_loss = 0.919\n",
      "Epoch 229 Batch    2/7   train_loss = 0.857\n",
      "Epoch 230 Batch    0/7   train_loss = 0.829\n",
      "Epoch 230 Batch    5/7   train_loss = 0.866\n",
      "Epoch 231 Batch    3/7   train_loss = 0.849\n",
      "Epoch 232 Batch    1/7   train_loss = 0.857\n",
      "Epoch 232 Batch    6/7   train_loss = 0.820\n",
      "Epoch 233 Batch    4/7   train_loss = 0.821\n",
      "Epoch 234 Batch    2/7   train_loss = 0.813\n",
      "Epoch 235 Batch    0/7   train_loss = 0.752\n",
      "Epoch 235 Batch    5/7   train_loss = 0.744\n",
      "Epoch 236 Batch    3/7   train_loss = 0.683\n",
      "Epoch 237 Batch    1/7   train_loss = 0.649\n",
      "Epoch 237 Batch    6/7   train_loss = 0.632\n",
      "Epoch 238 Batch    4/7   train_loss = 0.613\n",
      "Epoch 239 Batch    2/7   train_loss = 0.597\n",
      "Epoch 240 Batch    0/7   train_loss = 0.555\n",
      "Epoch 240 Batch    5/7   train_loss = 0.558\n",
      "Epoch 241 Batch    3/7   train_loss = 0.531\n",
      "Epoch 242 Batch    1/7   train_loss = 0.518\n",
      "Epoch 242 Batch    6/7   train_loss = 0.514\n",
      "Epoch 243 Batch    4/7   train_loss = 0.529\n",
      "Epoch 244 Batch    2/7   train_loss = 0.538\n",
      "Epoch 245 Batch    0/7   train_loss = 0.519\n",
      "Epoch 245 Batch    5/7   train_loss = 0.529\n",
      "Epoch 246 Batch    3/7   train_loss = 0.504\n",
      "Epoch 247 Batch    1/7   train_loss = 0.506\n",
      "Epoch 247 Batch    6/7   train_loss = 0.548\n",
      "Epoch 248 Batch    4/7   train_loss = 0.629\n",
      "Epoch 249 Batch    2/7   train_loss = 0.642\n",
      "Epoch 250 Batch    0/7   train_loss = 0.580\n",
      "Epoch 250 Batch    5/7   train_loss = 0.631\n",
      "Epoch 251 Batch    3/7   train_loss = 0.727\n",
      "Epoch 252 Batch    1/7   train_loss = 0.812\n",
      "Epoch 252 Batch    6/7   train_loss = 0.842\n",
      "Epoch 253 Batch    4/7   train_loss = 0.832\n",
      "Epoch 254 Batch    2/7   train_loss = 0.756\n",
      "Epoch 255 Batch    0/7   train_loss = 0.662\n",
      "Epoch 255 Batch    5/7   train_loss = 0.631\n",
      "Epoch 256 Batch    3/7   train_loss = 0.568\n",
      "Epoch 257 Batch    1/7   train_loss = 0.540\n",
      "Epoch 257 Batch    6/7   train_loss = 0.510\n",
      "Epoch 258 Batch    4/7   train_loss = 0.495\n",
      "Epoch 259 Batch    2/7   train_loss = 0.478\n",
      "Epoch 260 Batch    0/7   train_loss = 0.436\n",
      "Epoch 260 Batch    5/7   train_loss = 0.443\n",
      "Epoch 261 Batch    3/7   train_loss = 0.414\n",
      "Epoch 262 Batch    1/7   train_loss = 0.401\n",
      "Epoch 262 Batch    6/7   train_loss = 0.393\n",
      "Epoch 263 Batch    4/7   train_loss = 0.397\n",
      "Epoch 264 Batch    2/7   train_loss = 0.391\n",
      "Epoch 265 Batch    0/7   train_loss = 0.367\n",
      "Epoch 265 Batch    5/7   train_loss = 0.380\n",
      "Epoch 266 Batch    3/7   train_loss = 0.358\n",
      "Epoch 267 Batch    1/7   train_loss = 0.352\n",
      "Epoch 267 Batch    6/7   train_loss = 0.345\n",
      "Epoch 268 Batch    4/7   train_loss = 0.356\n",
      "Epoch 269 Batch    2/7   train_loss = 0.352\n",
      "Epoch 270 Batch    0/7   train_loss = 0.333\n",
      "Epoch 270 Batch    5/7   train_loss = 0.348\n",
      "Epoch 271 Batch    3/7   train_loss = 0.331\n",
      "Epoch 272 Batch    1/7   train_loss = 0.328\n",
      "Epoch 272 Batch    6/7   train_loss = 0.323\n",
      "Epoch 273 Batch    4/7   train_loss = 0.336\n",
      "Epoch 274 Batch    2/7   train_loss = 0.337\n",
      "Epoch 275 Batch    0/7   train_loss = 0.325\n",
      "Epoch 275 Batch    5/7   train_loss = 0.343\n",
      "Epoch 276 Batch    3/7   train_loss = 0.328\n",
      "Epoch 277 Batch    1/7   train_loss = 0.330\n",
      "Epoch 277 Batch    6/7   train_loss = 0.325\n",
      "Epoch 278 Batch    4/7   train_loss = 0.335\n",
      "Epoch 279 Batch    2/7   train_loss = 0.328\n",
      "Epoch 280 Batch    0/7   train_loss = 0.307\n",
      "Epoch 280 Batch    5/7   train_loss = 0.322\n",
      "Epoch 281 Batch    3/7   train_loss = 0.303\n",
      "Epoch 282 Batch    1/7   train_loss = 0.298\n",
      "Epoch 282 Batch    6/7   train_loss = 0.292\n",
      "Epoch 283 Batch    4/7   train_loss = 0.299\n",
      "Epoch 284 Batch    2/7   train_loss = 0.294\n",
      "Epoch 285 Batch    0/7   train_loss = 0.277\n",
      "Epoch 285 Batch    5/7   train_loss = 0.286\n",
      "Epoch 286 Batch    3/7   train_loss = 0.271\n",
      "Epoch 287 Batch    1/7   train_loss = 0.265\n",
      "Epoch 287 Batch    6/7   train_loss = 0.256\n",
      "Epoch 288 Batch    4/7   train_loss = 0.263\n",
      "Epoch 289 Batch    2/7   train_loss = 0.259\n",
      "Epoch 290 Batch    0/7   train_loss = 0.245\n",
      "Epoch 290 Batch    5/7   train_loss = 0.258\n",
      "Epoch 291 Batch    3/7   train_loss = 0.245\n",
      "Epoch 292 Batch    1/7   train_loss = 0.242\n",
      "Epoch 292 Batch    6/7   train_loss = 0.239\n",
      "Epoch 293 Batch    4/7   train_loss = 0.252\n",
      "Epoch 294 Batch    2/7   train_loss = 0.256\n",
      "Epoch 295 Batch    0/7   train_loss = 0.247\n",
      "Epoch 295 Batch    5/7   train_loss = 0.261\n",
      "Epoch 296 Batch    3/7   train_loss = 0.248\n",
      "Epoch 297 Batch    1/7   train_loss = 0.242\n",
      "Epoch 297 Batch    6/7   train_loss = 0.236\n",
      "Epoch 298 Batch    4/7   train_loss = 0.245\n",
      "Epoch 299 Batch    2/7   train_loss = 0.249\n",
      "Model Trained and Saved\n"
     ]
    }
   ],
   "source": [
    "\"\"\"\n",
    "DON'T MODIFY ANYTHING IN THIS CELL\n",
    "\"\"\"\n",
    "batches = get_batches(int_text, batch_size, seq_length)\n",
    "\n",
    "with tf.Session(graph=train_graph) as sess:\n",
    "    train_writer = tf.summary.FileWriter('./logs/lr={},sl={},bs={},rnns={}'.format(\n",
    "        learning_rate, seq_length, batch_size, rnn_size), train_graph)\n",
    "    merged_summary = tf.summary.merge_all()\n",
    "\n",
    "    sess.run(tf.global_variables_initializer())\n",
    "\n",
    "    iteration = 1\n",
    "    for epoch_i in range(num_epochs):\n",
    "        state = sess.run(initial_state, {input_text: batches[0][0]})\n",
    "\n",
    "        for batch_i, (x, y) in enumerate(batches):\n",
    "            feed = {\n",
    "                input_text: x,\n",
    "                targets: y,\n",
    "                initial_state: state,\n",
    "                lr: learning_rate}\n",
    "            summary, train_loss, state, _ = sess.run([merged_summary, cost, final_state, train_op], feed)\n",
    "\n",
    "            # Show every <show_every_n_batches> batches\n",
    "            if (epoch_i * len(batches) + batch_i) % show_every_n_batches == 0:\n",
    "                train_writer.add_summary(summary, iteration)\n",
    "                print('Epoch {:>3} Batch {:>4}/{}   train_loss = {:.3f}'.format(\n",
    "                    epoch_i,\n",
    "                    batch_i,\n",
    "                    len(batches),\n",
    "                    train_loss))\n",
    "            iteration += 1\n",
    "    # Save Model\n",
    "    saver = tf.train.Saver()\n",
    "    saver.save(sess, save_dir)\n",
    "    print('Model Trained and Saved')"
   ]
  },
  {
   "cell_type": "markdown",
   "metadata": {
    "deletable": true,
    "editable": true
   },
   "source": [
    "## Save Parameters\n",
    "Save `seq_length` and `save_dir` for generating a new TV script."
   ]
  },
  {
   "cell_type": "code",
   "execution_count": 48,
   "metadata": {
    "collapsed": false,
    "deletable": true,
    "editable": true
   },
   "outputs": [],
   "source": [
    "\"\"\"\n",
    "DON'T MODIFY ANYTHING IN THIS CELL\n",
    "\"\"\"\n",
    "# Save parameters for checkpoint\n",
    "helper.save_params((seq_length, save_dir))"
   ]
  },
  {
   "cell_type": "markdown",
   "metadata": {
    "deletable": true,
    "editable": true
   },
   "source": [
    "# Checkpoint"
   ]
  },
  {
   "cell_type": "code",
   "execution_count": 49,
   "metadata": {
    "collapsed": false,
    "deletable": true,
    "editable": true
   },
   "outputs": [],
   "source": [
    "\"\"\"\n",
    "DON'T MODIFY ANYTHING IN THIS CELL\n",
    "\"\"\"\n",
    "import tensorflow as tf\n",
    "import numpy as np\n",
    "import helper\n",
    "import problem_unittests as tests\n",
    "\n",
    "_, vocab_to_int, int_to_vocab, token_dict = helper.load_preprocess()\n",
    "seq_length, load_dir = helper.load_params()"
   ]
  },
  {
   "cell_type": "markdown",
   "metadata": {
    "deletable": true,
    "editable": true
   },
   "source": [
    "## Implement Generate Functions\n",
    "### Get Tensors\n",
    "Get tensors from `loaded_graph` using the function [`get_tensor_by_name()`](https://www.tensorflow.org/api_docs/python/tf/Graph#get_tensor_by_name).  Get the tensors using the following names:\n",
    "- \"input:0\"\n",
    "- \"initial_state:0\"\n",
    "- \"final_state:0\"\n",
    "- \"probs:0\"\n",
    "\n",
    "Return the tensors in the following tuple `(InputTensor, InitialStateTensor, FinalStateTensor, ProbsTensor)` "
   ]
  },
  {
   "cell_type": "code",
   "execution_count": 50,
   "metadata": {
    "collapsed": false,
    "deletable": true,
    "editable": true
   },
   "outputs": [
    {
     "name": "stdout",
     "output_type": "stream",
     "text": [
      "Tests Passed\n"
     ]
    }
   ],
   "source": [
    "def get_tensors(loaded_graph):\n",
    "    \"\"\"\n",
    "    Get input, initial state, final state, and probabilities tensor from <loaded_graph>\n",
    "    :param loaded_graph: TensorFlow graph loaded from file\n",
    "    :return: Tuple (InputTensor, InitialStateTensor, FinalStateTensor, ProbsTensor)\n",
    "    \"\"\"\n",
    "    # TODO: Implement Function\n",
    "    input = loaded_graph.get_tensor_by_name('input:0')\n",
    "    initial_state = loaded_graph.get_tensor_by_name('initial_state:0')\n",
    "    final_state = loaded_graph.get_tensor_by_name('final_state:0')\n",
    "    probs = loaded_graph.get_tensor_by_name('probs:0')\n",
    "    return input, initial_state, final_state, probs\n",
    "\n",
    "\n",
    "\"\"\"\n",
    "DON'T MODIFY ANYTHING IN THIS CELL THAT IS BELOW THIS LINE\n",
    "\"\"\"\n",
    "tests.test_get_tensors(get_tensors)"
   ]
  },
  {
   "cell_type": "markdown",
   "metadata": {
    "deletable": true,
    "editable": true
   },
   "source": [
    "### Choose Word\n",
    "Implement the `pick_word()` function to select the next word using `probabilities`."
   ]
  },
  {
   "cell_type": "code",
   "execution_count": 51,
   "metadata": {
    "collapsed": false,
    "deletable": true,
    "editable": true
   },
   "outputs": [
    {
     "name": "stdout",
     "output_type": "stream",
     "text": [
      "Tests Passed\n"
     ]
    }
   ],
   "source": [
    "def pick_word(probabilities, int_to_vocab):\n",
    "    \"\"\"\n",
    "    Pick the next word in the generated text\n",
    "    :param probabilities: Probabilites of the next word\n",
    "    :param int_to_vocab: Dictionary of word ids as the keys and words as the values\n",
    "    :return: String of the predicted word\n",
    "    \"\"\"\n",
    "    # TODO: Implement Function\n",
    "    return int_to_vocab[np.random.choice(len(probabilities), p=probabilities)]\n",
    "\n",
    "\n",
    "\"\"\"\n",
    "DON'T MODIFY ANYTHING IN THIS CELL THAT IS BELOW THIS LINE\n",
    "\"\"\"\n",
    "tests.test_pick_word(pick_word)"
   ]
  },
  {
   "cell_type": "markdown",
   "metadata": {
    "deletable": true,
    "editable": true
   },
   "source": [
    "## Generate TV Script\n",
    "This will generate the TV script for you.  Set `gen_length` to the length of TV script you want to generate."
   ]
  },
  {
   "cell_type": "code",
   "execution_count": 55,
   "metadata": {
    "collapsed": false,
    "deletable": true,
    "editable": true
   },
   "outputs": [
    {
     "name": "stdout",
     "output_type": "stream",
     "text": [
      "moe_szyslak: hey, hey, hey! no!\n",
      "moe_szyslak: why god, what too wiggum comes the lucky man, you sure sure sure hear that are you will too high on the jerk while\n",
      "homer_simpson: and you, that thing, you've been back with made when where you did it when if if you want to keep your chick?! maggie ahead, barney. you know, anyway, what's the name-- or everybody hoo?\n",
      "moe_szyslak:(frustrated noises) no, come with a bottle of school. least i talk to gettin' his gutenberg name by favorite man of springfield?\n",
      "homer_simpson:(excited) uh-huh...\n",
      "moe_szyslak: they, you have a big card to been to do no woman. i've hope something wiggum marge made a big more?\n",
      "homer_simpson:(clears throat) some inspection\"\n",
      "carl_carlson: me keeps to be a glass of burt aggravazes me there when i annoyed like to think out on right? scatter whaddaya do you hand made ready the dog? might then better people him you the great backwards for you\n"
     ]
    }
   ],
   "source": [
    "gen_length = 200\n",
    "# homer_simpson, moe_szyslak, or Barney_Gumble\n",
    "prime_word = 'moe_szyslak'\n",
    "\n",
    "\"\"\"\n",
    "DON'T MODIFY ANYTHING IN THIS CELL THAT IS BELOW THIS LINE\n",
    "\"\"\"\n",
    "loaded_graph = tf.Graph()\n",
    "with tf.Session(graph=loaded_graph) as sess:\n",
    "    # Load saved model\n",
    "    loader = tf.train.import_meta_graph(load_dir + '.meta')\n",
    "    loader.restore(sess, load_dir)\n",
    "\n",
    "    # Get Tensors from loaded model\n",
    "    input_text, initial_state, final_state, probs = get_tensors(loaded_graph)\n",
    "\n",
    "    # Sentences generation setup\n",
    "    gen_sentences = [prime_word + ':']\n",
    "    prev_state = sess.run(initial_state, {input_text: np.array([[1]])})\n",
    "\n",
    "    # Generate sentences\n",
    "    for n in range(gen_length):\n",
    "        # Dynamic Input\n",
    "        dyn_input = [[vocab_to_int[word] for word in gen_sentences[-seq_length:]]]\n",
    "        dyn_seq_length = len(dyn_input[0])\n",
    "\n",
    "        # Get Prediction\n",
    "        probabilities, prev_state = sess.run(\n",
    "            [probs, final_state],\n",
    "            {input_text: dyn_input, initial_state: prev_state})\n",
    "        \n",
    "        pred_word = pick_word(probabilities[dyn_seq_length-1], int_to_vocab)\n",
    "\n",
    "        gen_sentences.append(pred_word)\n",
    "    \n",
    "    # Remove tokens\n",
    "    tv_script = ' '.join(gen_sentences)\n",
    "    for key, token in token_dict.items():\n",
    "        ending = ' ' if key in ['\\n', '(', '\"'] else ''\n",
    "        tv_script = tv_script.replace(' ' + token.lower(), key)\n",
    "    tv_script = tv_script.replace('\\n ', '\\n')\n",
    "    tv_script = tv_script.replace('( ', '(')\n",
    "        \n",
    "    print(tv_script)"
   ]
  },
  {
   "cell_type": "markdown",
   "metadata": {
    "deletable": true,
    "editable": true
   },
   "source": [
    "# The TV Script is Nonsensical\n",
    "It's ok if the TV script doesn't make any sense.  We trained on less than a megabyte of text.  In order to get good results, you'll have to use a smaller vocabulary or get more data.  Luckly there's more data!  As we mentioned in the begging of this project, this is a subset of [another dataset](https://www.kaggle.com/wcukierski/the-simpsons-by-the-data).  We didn't have you train on all the data, because that would take too long.  However, you are free to train your neural network on all the data.  After you complete the project, of course.\n",
    "# Submitting This Project\n",
    "When submitting this project, make sure to run all the cells before saving the notebook. Save the notebook file as \"dlnd_tv_script_generation.ipynb\" and save it as a HTML file under \"File\" -> \"Download as\". Include the \"helper.py\" and \"problem_unittests.py\" files in your submission."
   ]
  }
 ],
 "metadata": {
  "kernelspec": {
   "display_name": "Python 3",
   "language": "python",
   "name": "python3"
  },
  "language_info": {
   "codemirror_mode": {
    "name": "ipython",
    "version": 3
   },
   "file_extension": ".py",
   "mimetype": "text/x-python",
   "name": "python",
   "nbconvert_exporter": "python",
   "pygments_lexer": "ipython3",
   "version": "3.5.2"
  },
  "widgets": {
   "state": {},
   "version": "1.1.2"
  }
 },
 "nbformat": 4,
 "nbformat_minor": 0
}
