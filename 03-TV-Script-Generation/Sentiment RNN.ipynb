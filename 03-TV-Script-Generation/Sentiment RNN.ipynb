{
 "cells": [
  {
   "cell_type": "markdown",
   "metadata": {
    "deletable": true,
    "editable": true
   },
   "source": [
    "# Sentiment Analysis with an RNN\n",
    "\n",
    "In this notebook, you'll implement a recurrent neural network that performs sentiment analysis. Using an RNN rather than a feedfoward network is more accurate since we can include information about the *sequence* of words. Here we'll use a dataset of movie reviews, accompanied by labels.\n",
    "\n",
    "The architecture for this network is shown below.\n",
    "\n",
    "<img src=\"assets/network_diagram.png\" width=400px>\n",
    "\n",
    "Here, we'll pass in words to an embedding layer. We need an embedding layer because we have tens of thousands of words, so we'll need a more efficient representation for our input data than one-hot encoded vectors. You should have seen this before from the word2vec lesson. You can actually train up an embedding with word2vec and use it here. But it's good enough to just have an embedding layer and let the network learn the embedding table on it's own.\n",
    "\n",
    "From the embedding layer, the new representations will be passed to LSTM cells. These will add recurrent connections to the network so we can include information about the sequence of words in the data. Finally, the LSTM cells will go to a sigmoid output layer here. We're using the sigmoid because we're trying to predict if this text has positive or negative sentiment. The output layer will just be a single unit then, with a sigmoid activation function.\n",
    "\n",
    "We don't care about the sigmoid outputs except for the very last one, we can ignore the rest. We'll calculate the cost from the output of the last step and the training label."
   ]
  },
  {
   "cell_type": "code",
   "execution_count": 1,
   "metadata": {
    "collapsed": true,
    "deletable": true,
    "editable": true
   },
   "outputs": [],
   "source": [
    "import numpy as np\n",
    "import tensorflow as tf"
   ]
  },
  {
   "cell_type": "code",
   "execution_count": 2,
   "metadata": {
    "collapsed": false,
    "deletable": true,
    "editable": true
   },
   "outputs": [],
   "source": [
    "with open('reviews.txt', 'r') as f:\n",
    "    reviews = f.read()\n",
    "with open('labels.txt', 'r') as f:\n",
    "    labels = f.read()"
   ]
  },
  {
   "cell_type": "code",
   "execution_count": 3,
   "metadata": {
    "collapsed": false,
    "deletable": true,
    "editable": true
   },
   "outputs": [
    {
     "data": {
      "text/plain": [
       "'bromwell high is a cartoon comedy . it ran at the same time as some other programs about school life  such as  teachers  . my   years in the teaching profession lead me to believe that bromwell high  s satire is much closer to reality than is  teachers  . the scramble to survive financially  the insightful students who can see right through their pathetic teachers  pomp  the pettiness of the whole situation  all remind me of the schools i knew and their students . when i saw the episode in which a student repeatedly tried to burn down the school  i immediately recalled . . . . . . . . . at . . . . . . . . . . high . a classic line inspector i  m here to sack one of your teachers . student welcome to bromwell high . i expect that many adults of my age think that bromwell high is far fetched . what a pity that it isn  t   \\nstory of a man who has unnatural feelings for a pig . starts out with a opening scene that is a terrific example of absurd comedy . a formal orchestra audience is turned into an insane  violent mob by the crazy chantings of it  s singers . unfortunately it stays absurd the whole time with no general narrative eventually making it just too off putting . even those from the era should be turned off . the cryptic dialogue would make shakespeare seem easy to a third grader . on a technical level it  s better than you might think with some good cinematography by future great vilmos zsigmond . future stars sally kirkland and frederic forrest can be seen briefly .  \\nhomelessness  or houselessness as george carlin stated  has been an issue for years but never a plan to help those on the street that were once considered human who did everything from going to school  work  or vote for the matter . most people think of the homeless as just a lost cause while worrying about things such as racism  the war on iraq  pressuring kids to succeed  technology  the elections  inflation  or worrying if they  ll be next to end up on the streets .  br    br   but what if y'"
      ]
     },
     "execution_count": 3,
     "metadata": {},
     "output_type": "execute_result"
    }
   ],
   "source": [
    "reviews[:2000]"
   ]
  },
  {
   "cell_type": "markdown",
   "metadata": {
    "deletable": true,
    "editable": true
   },
   "source": [
    "## Data preprocessing\n",
    "\n",
    "The first step when building a neural network model is getting your data into the proper form to feed into the network. Since we're using embedding layers, we'll need to encode each word with an integer. We'll also want to clean it up a bit.\n",
    "\n",
    "You can see an example of the reviews data above. We'll want to get rid of those periods. Also, you might notice that the reviews are delimited with newlines `\\n`. To deal with those, I'm going to split the text into each review using `\\n` as the delimiter. Then I can combined all the reviews back together into one big string.\n",
    "\n",
    "First, let's remove all punctuation. Then get all the text without the newlines and split it into individual words."
   ]
  },
  {
   "cell_type": "code",
   "execution_count": 4,
   "metadata": {
    "collapsed": true,
    "deletable": true,
    "editable": true
   },
   "outputs": [],
   "source": [
    "from string import punctuation\n",
    "all_text = ''.join([c for c in reviews if c not in punctuation])\n",
    "reviews = all_text.split('\\n')\n",
    "\n",
    "all_text = ' '.join(reviews)\n",
    "words = all_text.split()"
   ]
  },
  {
   "cell_type": "code",
   "execution_count": 5,
   "metadata": {
    "collapsed": false,
    "deletable": true,
    "editable": true,
    "scrolled": true
   },
   "outputs": [
    {
     "data": {
      "text/plain": [
       "'bromwell high is a cartoon comedy  it ran at the same time as some other programs about school life  such as  teachers   my   years in the teaching profession lead me to believe that bromwell high  s satire is much closer to reality than is  teachers   the scramble to survive financially  the insightful students who can see right through their pathetic teachers  pomp  the pettiness of the whole situation  all remind me of the schools i knew and their students  when i saw the episode in which a student repeatedly tried to burn down the school  i immediately recalled          at           high  a classic line inspector i  m here to sack one of your teachers  student welcome to bromwell high  i expect that many adults of my age think that bromwell high is far fetched  what a pity that it isn  t    story of a man who has unnatural feelings for a pig  starts out with a opening scene that is a terrific example of absurd comedy  a formal orchestra audience is turned into an insane  violent mob by the crazy chantings of it  s singers  unfortunately it stays absurd the whole time with no general narrative eventually making it just too off putting  even those from the era should be turned off  the cryptic dialogue would make shakespeare seem easy to a third grader  on a technical level it  s better than you might think with some good cinematography by future great vilmos zsigmond  future stars sally kirkland and frederic forrest can be seen briefly    homelessness  or houselessness as george carlin stated  has been an issue for years but never a plan to help those on the street that were once considered human who did everything from going to school  work  or vote for the matter  most people think of the homeless as just a lost cause while worrying about things such as racism  the war on iraq  pressuring kids to succeed  technology  the elections  inflation  or worrying if they  ll be next to end up on the streets   br    br   but what if you were given a bet to live on the st'"
      ]
     },
     "execution_count": 5,
     "metadata": {},
     "output_type": "execute_result"
    }
   ],
   "source": [
    "all_text[:2000]"
   ]
  },
  {
   "cell_type": "code",
   "execution_count": 6,
   "metadata": {
    "collapsed": false,
    "deletable": true,
    "editable": true
   },
   "outputs": [
    {
     "data": {
      "text/plain": [
       "['bromwell', 'high', 'is', 'a', 'cartoon', 'comedy', 'it', 'ran', 'at', 'the']"
      ]
     },
     "execution_count": 6,
     "metadata": {},
     "output_type": "execute_result"
    }
   ],
   "source": [
    "words[:10]"
   ]
  },
  {
   "cell_type": "markdown",
   "metadata": {
    "deletable": true,
    "editable": true
   },
   "source": [
    "### Encoding the words\n",
    "\n",
    "The embedding lookup requires that we pass in integers to our network. The easiest way to do this is to create dictionaries that map the words in the vocabulary to integers. Then we can convert each of our reviews into integers so they can be passed into the network.\n",
    "\n",
    "> **Exercise:** Now you're going to encode the words with integers. Build a dictionary that maps words to integers. Later we're going to pad our input vectors with zeros, so make sure the integers **start at 1, not 0**.\n",
    "> Also, convert the reviews to integers and store the reviews in a new list called `reviews_ints`. "
   ]
  },
  {
   "cell_type": "code",
   "execution_count": 7,
   "metadata": {
    "collapsed": false,
    "deletable": true,
    "editable": true
   },
   "outputs": [],
   "source": [
    "# Create your dictionary that maps vocab words to integers here\n",
    "vocab_to_int = { word: idx for idx, word in enumerate(set(words),1) }\n",
    "\n",
    "# Convert the reviews to integers, same shape as reviews list, but with integers\n",
    "reviews_ints = [[ vocab_to_int[word] for word in review.split()] for review in reviews]"
   ]
  },
  {
   "cell_type": "markdown",
   "metadata": {
    "collapsed": false,
    "deletable": true,
    "editable": true
   },
   "source": [
    "### Encoding the labels\n",
    "\n",
    "Our labels are \"positive\" or \"negative\". To use these labels in our network, we need to convert them to 0 and 1.\n",
    "\n",
    "> **Exercise:** Convert labels from `positive` and `negative` to 1 and 0, respectively."
   ]
  },
  {
   "cell_type": "code",
   "execution_count": 8,
   "metadata": {
    "collapsed": false,
    "deletable": true,
    "editable": true
   },
   "outputs": [
    {
     "data": {
      "text/plain": [
       "array([1, 0, 1, ..., 0, 1, 0])"
      ]
     },
     "execution_count": 8,
     "metadata": {},
     "output_type": "execute_result"
    }
   ],
   "source": [
    "# Convert labels to 1s and 0s for 'positive' and 'negative'\n",
    "labels = np.array([ (1 if label == 'positive' else 0) for label in labels.split()])\n",
    "labels"
   ]
  },
  {
   "cell_type": "markdown",
   "metadata": {
    "deletable": true,
    "editable": true
   },
   "source": [
    "If you built `labels` correctly, you should see the next output."
   ]
  },
  {
   "cell_type": "code",
   "execution_count": 9,
   "metadata": {
    "collapsed": false,
    "deletable": true,
    "editable": true
   },
   "outputs": [
    {
     "name": "stdout",
     "output_type": "stream",
     "text": [
      "Zero-length reviews: 1\n",
      "Maximum review length: 2514\n"
     ]
    }
   ],
   "source": [
    "from collections import Counter\n",
    "\n",
    "review_lens = Counter([len(x) for x in reviews_ints])\n",
    "print(\"Zero-length reviews: {}\".format(review_lens[0]))\n",
    "print(\"Maximum review length: {}\".format(max(review_lens)))"
   ]
  },
  {
   "cell_type": "markdown",
   "metadata": {
    "deletable": true,
    "editable": true
   },
   "source": [
    "Okay, a couple issues here. We seem to have one review with zero length. And, the maximum review length is way too many steps for our RNN. Let's truncate to 200 steps. For reviews shorter than 200, we'll pad with 0s. For reviews longer than 200, we can truncate them to the first 200 characters.\n",
    "\n",
    "> **Exercise:** First, remove the review with zero length from the `reviews_ints` list."
   ]
  },
  {
   "cell_type": "code",
   "execution_count": 10,
   "metadata": {
    "collapsed": false,
    "deletable": true,
    "editable": true
   },
   "outputs": [],
   "source": [
    "# Filter out that review with 0 length\n",
    "reviews_ints = list(filter(lambda r: len(r) > 0, reviews_ints))"
   ]
  },
  {
   "cell_type": "markdown",
   "metadata": {
    "deletable": true,
    "editable": true
   },
   "source": [
    "> **Exercise:** Now, create an array `features` that contains the data we'll pass to the network. The data should come from `review_ints`, since we want to feed integers to the network. Each row should be 200 elements long. For reviews shorter than 200 words, left pad with 0s. That is, if the review is `['best', 'movie', 'ever']`, `[117, 18, 128]` as integers, the row will look like `[0, 0, 0, ..., 0, 117, 18, 128]`. For reviews longer than 200, use on the first 200 words as the feature vector.\n",
    "\n",
    "This isn't trivial and there are a bunch of ways to do this. But, if you're going to be building your own deep learning networks, you're going to have to get used to preparing your data.\n",
    "\n"
   ]
  },
  {
   "cell_type": "code",
   "execution_count": 11,
   "metadata": {
    "collapsed": false,
    "deletable": true,
    "editable": true
   },
   "outputs": [],
   "source": [
    "seq_len = 200\n",
    "\n",
    "features = np.zeros((len(reviews_ints), seq_len), np.int32)\n",
    "for idx, r in enumerate(reviews_ints):\n",
    "    r_trunc = np.array(r[:seq_len])\n",
    "    features[idx, -len(r_trunc):] = r_trunc\n"
   ]
  },
  {
   "cell_type": "code",
   "execution_count": 12,
   "metadata": {
    "collapsed": false,
    "deletable": true,
    "editable": true
   },
   "outputs": [
    {
     "data": {
      "text/plain": [
       "array([[    0,     0,     0, ..., 42451, 31953, 47273],\n",
       "       [    0,     0,     0, ..., 12723, 55400, 46176],\n",
       "       [42342, 55478,  6581, ..., 36412, 28995, 44302],\n",
       "       ..., \n",
       "       [18684, 37955, 43111, ...,  9353, 44365, 71118],\n",
       "       [    0,     0,     0, ..., 66944,  8790,  4812],\n",
       "       [    0,     0,     0, ..., 44810, 48135, 37978]], dtype=int32)"
      ]
     },
     "execution_count": 12,
     "metadata": {},
     "output_type": "execute_result"
    }
   ],
   "source": [
    "features"
   ]
  },
  {
   "cell_type": "markdown",
   "metadata": {
    "deletable": true,
    "editable": true
   },
   "source": [
    "If you build features correctly, it should look like that cell output below."
   ]
  },
  {
   "cell_type": "code",
   "execution_count": 13,
   "metadata": {
    "collapsed": false,
    "deletable": true,
    "editable": true
   },
   "outputs": [
    {
     "data": {
      "text/plain": [
       "array([[    0,     0,     0,     0,     0,     0,     0,     0,     0,\n",
       "            0,     0,     0,     0,     0,     0,     0,     0,     0,\n",
       "            0,     0,     0,     0,     0,     0,     0,     0,     0,\n",
       "            0,     0,     0,     0,     0,     0,     0,     0,     0,\n",
       "            0,     0,     0,     0,     0,     0,     0,     0,     0,\n",
       "            0,     0,     0,     0,     0,     0,     0,     0,     0,\n",
       "            0,     0,     0,     0,     0,     0, 12086, 48930, 48135,\n",
       "        44302, 29532, 11655, 42451,  7681,  9569, 56483, 71360,  6128,\n",
       "        33719, 18684, 66944, 26343,   511, 21569, 55007, 29642, 33719,\n",
       "        13113, 51707, 46857, 49363, 56483, 60988, 51672, 20255, 38119,\n",
       "        55074, 47844, 43111, 12086, 48930, 54748,  4078, 48135, 72546,\n",
       "        61559],\n",
       "       [    0,     0,     0,     0,     0,     0,     0,     0,     0,\n",
       "            0,     0,     0,     0,     0,     0,     0,     0,     0,\n",
       "            0,     0,     0,     0,     0,     0,     0,     0,     0,\n",
       "            0,     0,     0,     0,     0,     0,     0,     0,     0,\n",
       "            0,     0,     0,     0,     0,     0,     0,     0,     0,\n",
       "            0,     0,     0,     0,     0,     0,     0,     0,     0,\n",
       "            0,     0,     0,     0,     0,     0,     0,     0,     0,\n",
       "            0,     0,     0,     0,     0,     0,     0,     0,     0,\n",
       "            0,     0,     0,     0,     0,     0,     0,     0,     0,\n",
       "            0,     0,     0,     0,     0, 36488, 65788, 44302, 32231,\n",
       "         9288, 51500,    52, 23320, 39978, 44302, 26939, 20117, 14303,\n",
       "        28995],\n",
       "       [42342, 55478,  6581, 33719, 51552,  2629, 40875, 51500, 41357,\n",
       "         6333,   109, 39978, 46857,  5406, 16073, 44302,  5555, 55074,\n",
       "        59748, 63667, 28229, 56483, 47791, 43111, 34180, 64651, 44738,\n",
       "        30939,  9288, 14878, 26546,  4812,  7191, 55074, 21569, 51916,\n",
       "        55478,   645, 39978, 56483, 29804, 67975, 29595, 37254, 65788,\n",
       "        56483, 23849, 33719, 32520, 44302, 67168, 11201, 27748, 66278,\n",
       "          511,  8260, 29642, 33719, 68706, 56483, 15179, 28229, 69523,\n",
       "        37336, 60247, 55074, 70162, 40555, 56483, 13134,  2241, 55478,\n",
       "        66278, 41926, 50124, 47282, 12723, 72348, 55074, 64549, 44365,\n",
       "        28229, 56483, 24555, 16456, 16456,  5406, 10027, 41926, 50560,\n",
       "        34180, 37240, 44302, 32675, 55074, 48249, 28229, 56483, 24555,\n",
       "        39978],\n",
       "       [ 8412, 20117, 33719, 44302, 63148, 35171, 10370, 20863, 48135,\n",
       "        47595, 44365, 28995, 10524, 23066, 29642, 35746, 55074, 39944,\n",
       "        13899, 35504, 71881, 71085,    66,  9288, 48135, 20283,  2115,\n",
       "        44302, 68279, 65788, 12175, 54748, 55074, 59965, 70893, 49363,\n",
       "         4506, 65788, 42451, 10863, 26514, 55074, 56483, 21423, 33719,\n",
       "        44302, 70248, 55562, 28229, 67017, 48135, 71881, 29924, 24526,\n",
       "        21795, 15761, 70052, 68750, 56483, 10370,  9501, 35904, 68784,\n",
       "        33719, 38234,  5406, 14717, 48309, 56483, 20863, 48135, 57610,\n",
       "        57004, 44291, 56483, 56265, 42024, 45778, 56052, 40749, 59965,\n",
       "        30515, 12445, 54748, 11993, 39773, 18433,   122, 30651, 58292,\n",
       "         9288, 67332, 56483, 19717, 61769, 14303, 28995, 26930,  2416,\n",
       "        50124],\n",
       "       [    0,     0,     0,     0,     0,     0,     0,     0,     0,\n",
       "            0,     0,     0,     0,     0,     0,     0,     0,     0,\n",
       "            0,     0,     0,     0,     0,     0,     0,     0,     0,\n",
       "            0,     0,     0,     0,     0,     0,     0,     0,     0,\n",
       "            0,     0,     0,     0,     0,     0,     0,     0,     0,\n",
       "            0,     0,     0,     0,     0, 38404, 36108, 56523, 44291,\n",
       "        64677, 56295, 65516, 71163, 66056, 41493, 52730, 30241, 28658,\n",
       "         4867, 55400, 47570, 65802, 28732, 49363, 37833, 66299, 30440,\n",
       "        24501, 55074,  3101, 56483, 43544, 28229,  8815, 48135, 44302,\n",
       "        45155, 33719, 37167, 33719, 62390, 49363, 10760,  4693, 56483,\n",
       "        30927, 28229, 35276, 48135, 55562, 47764,  9412, 10863, 40205,\n",
       "        65788],\n",
       "       [    0,     0,     0,     0,     0,     0,     0,     0,     0,\n",
       "            0,     0,     0,     0,     0,     0,     0,     0,     0,\n",
       "            0,     0,     0,     0,     0,     0,     0,     0,     0,\n",
       "            0,     0,     0,     0,     0,     0,     0,     0,     0,\n",
       "            0,     0,     0,     0,     0,     0,     0,     0,     0,\n",
       "            0,     0,     0,     0,     0,     0,     0,     0,     0,\n",
       "        44810, 22949, 41416, 15300, 30241, 32039, 47273, 26106, 51707,\n",
       "        72523, 28229,  9569, 11696, 22094, 28229, 56483,  3807, 65788,\n",
       "        56483, 23153, 64388, 44810, 32211,  7603, 55074, 11130, 65788,\n",
       "        21207, 47955, 36306, 53160, 56483, 48454, 28995, 70052, 23153,\n",
       "        32231, 43266, 56483, 35368, 28732, 21866,  8569, 33719, 10863,\n",
       "        66525],\n",
       "       [    0,     0,     0,     0,     0,     0,     0,     0,     0,\n",
       "            0,     0,     0,     0,     0,     0,     0,     0,     0,\n",
       "            0,     0,     0,     0,     0,     0,     0,     0,     0,\n",
       "            0,     0,     0,     0,     0,     0,     0,     0,     0,\n",
       "            0,     0,     0,     0,     0,     0,     0,     0,     0,\n",
       "            0,     0,     0,     0,     0,     0,     0,     0,     0,\n",
       "            0,     0,     0,     0,     0,     0,     0,     0,     0,\n",
       "            0,     0,     0,     0,     0,     0,     0,     0,     0,\n",
       "            0,     0,     0,     0, 44810, 48135, 26735, 56483, 67975,\n",
       "        63718, 22949,  8296, 56483,  6191, 50551, 45476, 48593, 14371,\n",
       "        42451, 26159, 53061,  2845, 44302, 48860, 36694, 65788, 42342,\n",
       "        40653],\n",
       "       [    0,     0,     0,     0,     0,     0,     0,     0,     0,\n",
       "            0,     0,     0,     0,     0,     0,     0,     0,     0,\n",
       "            0,     0,     0,     0,     0,     0,     0,     0,     0,\n",
       "            0,     0,     0,     0,     0,     0,     0,     0,     0,\n",
       "            0,     0,     0,     0,     0,     0,     0,     0,     0,\n",
       "            0,     0, 65284, 22078, 30241, 36758, 44810, 48135,  9929,\n",
       "        55074, 12723,  6333, 16816, 22949,  5406, 21584, 50124, 47314,\n",
       "        28658, 38575, 14303, 49043,  9569, 56483, 50948, 28923, 29595,\n",
       "        47413, 34566, 56042, 25318, 14303, 47570, 53061, 73503, 53202,\n",
       "        56483, 46874, 23747, 47570, 51901, 17671, 68632, 40798, 44810,\n",
       "        36488, 48135, 36202, 37978, 55074, 73503, 56483, 33043, 65788,\n",
       "        44302],\n",
       "       [    0,     0,     0,     0,     0,     0,     0,     0,     0,\n",
       "            0,     0,     0,     0,     0,     0,     0,     0,     0,\n",
       "            0,     0,     0,     0,     0,     0,     0,     0,     0,\n",
       "            0,     0,     0,     0,     0,     0,     0,     0,     0,\n",
       "            0,     0,     0,     0,     0,     0,     0,     0,     0,\n",
       "            0,     0,     0,     0,     0,     0,     0,     0,     0,\n",
       "            0,     0,     0,     0,     0,     0,     0,     0,     0,\n",
       "            0,     0,     0,     0,     0,     0,     0,     0,     0,\n",
       "            0,     0,     0,     0,     0,     0,     0, 44810, 48135,\n",
       "        53061, 56483, 50422, 18987,  6191, 22949, 42451, 68632, 72546,\n",
       "         2847,  9258, 45146, 67975, 65788, 59965, 42524, 47570, 50325,\n",
       "        57581],\n",
       "       [47955, 30241, 68632, 37471, 51707, 45812, 48241, 38119, 29783,\n",
       "        55074, 56483, 34291, 55074,  4910, 40397, 42451, 68632, 21984,\n",
       "        65788, 31207, 42524, 30241, 53639, 28995, 51707, 45812,  5406,\n",
       "        44810, 68632, 56483, 60457, 21984, 22599,  8817, 14303, 65788,\n",
       "        15142, 59876, 30241, 57581, 16073, 55400, 40397, 11008, 32520,\n",
       "        27413, 47570, 30241, 47413, 28658, 59998, 14303, 56483, 16749,\n",
       "        65788, 51707, 55007, 65056, 42451, 10027, 44302, 40746,  9788,\n",
       "        47570, 22060, 34576,  9601, 65788, 54748, 46863, 47570, 60024,\n",
       "         4870,  4168, 71939, 48135, 21984, 65788, 51707, 10664,  4565,\n",
       "         5406, 40397, 48135, 44291, 53390, 56483, 59810,  9601, 65788,\n",
       "        48553, 65788, 59965,  8075, 49363, 56483,  6844, 73481, 65788,\n",
       "        52781]], dtype=int32)"
      ]
     },
     "execution_count": 13,
     "metadata": {},
     "output_type": "execute_result"
    }
   ],
   "source": [
    "features[:10,:100]"
   ]
  },
  {
   "cell_type": "markdown",
   "metadata": {
    "deletable": true,
    "editable": true
   },
   "source": [
    "## Training, Validation, Test\n",
    "\n"
   ]
  },
  {
   "cell_type": "markdown",
   "metadata": {
    "deletable": true,
    "editable": true
   },
   "source": [
    "With our data in nice shape, we'll split it into training, validation, and test sets.\n",
    "\n",
    "> **Exercise:** Create the training, validation, and test sets here. You'll need to create sets for the features and the labels, `train_x` and `train_y` for example. Define a split fraction, `split_frac` as the fraction of data to keep in the training set. Usually this is set to 0.8 or 0.9. The rest of the data will be split in half to create the validation and testing data."
   ]
  },
  {
   "cell_type": "code",
   "execution_count": 14,
   "metadata": {
    "collapsed": false,
    "deletable": true,
    "editable": true
   },
   "outputs": [
    {
     "name": "stdout",
     "output_type": "stream",
     "text": [
      "\t\t\tFeature Shapes:\n",
      "Train set: \t\t(20000, 200) \n",
      "Validation set: \t(2500, 200) \n",
      "Test set: \t\t(2500, 200)\n"
     ]
    }
   ],
   "source": [
    "split_frac = 0.8\n",
    "\n",
    "split_idx = round(len(labels)*0.8)\n",
    "train_x, val_x = features[0:split_idx], features[split_idx:]\n",
    "train_y, val_y = labels[0:split_idx], labels[split_idx:]\n",
    "\n",
    "split_test_idx = split_idx + round(len(labels) * (1. - split_frac)/2.)\n",
    "val_x, test_x = features[split_idx:split_test_idx], features[split_test_idx:]\n",
    "val_y, test_y = labels[split_idx:split_test_idx], labels[split_test_idx:]\n",
    "\n",
    "print(\"\\t\\t\\tFeature Shapes:\")\n",
    "print(\"Train set: \\t\\t{}\".format(train_x.shape), \n",
    "      \"\\nValidation set: \\t{}\".format(val_x.shape),\n",
    "      \"\\nTest set: \\t\\t{}\".format(test_x.shape))"
   ]
  },
  {
   "cell_type": "markdown",
   "metadata": {
    "deletable": true,
    "editable": true
   },
   "source": [
    "With train, validation, and text fractions of 0.8, 0.1, 0.1, the final shapes should look like:\n",
    "```\n",
    "                    Feature Shapes:\n",
    "Train set: \t\t (20000, 200) \n",
    "Validation set: \t(2500, 200) \n",
    "Test set: \t\t  (2501, 200)\n",
    "```"
   ]
  },
  {
   "cell_type": "markdown",
   "metadata": {
    "deletable": true,
    "editable": true
   },
   "source": [
    "## Build the graph\n",
    "\n",
    "Here, we'll build the graph. First up, defining the hyperparameters.\n",
    "\n",
    "* `lstm_size`: Number of units in the hidden layers in the LSTM cells. Usually larger is better performance wise. Common values are 128, 256, 512, etc.\n",
    "* `lstm_layers`: Number of LSTM layers in the network. I'd start with 1, then add more if I'm underfitting.\n",
    "* `batch_size`: The number of reviews to feed the network in one training pass. Typically this should be set as high as you can go without running out of memory.\n",
    "* `learning_rate`: Learning rate"
   ]
  },
  {
   "cell_type": "code",
   "execution_count": 15,
   "metadata": {
    "collapsed": true,
    "deletable": true,
    "editable": true
   },
   "outputs": [],
   "source": [
    "lstm_size = 256\n",
    "lstm_layers = 1\n",
    "batch_size = 500\n",
    "learning_rate = 0.001"
   ]
  },
  {
   "cell_type": "markdown",
   "metadata": {
    "deletable": true,
    "editable": true
   },
   "source": [
    "For the network itself, we'll be passing in our 200 element long review vectors. Each batch will be `batch_size` vectors. We'll also be using dropout on the LSTM layer, so we'll make a placeholder for the keep probability."
   ]
  },
  {
   "cell_type": "markdown",
   "metadata": {
    "deletable": true,
    "editable": true
   },
   "source": [
    "> **Exercise:** Create the `inputs_`, `labels_`, and drop out `keep_prob` placeholders using `tf.placeholder`. `labels_` needs to be two-dimensional to work with some functions later.  Since `keep_prob` is a scalar (a 0-dimensional tensor), you shouldn't provide a size to `tf.placeholder`."
   ]
  },
  {
   "cell_type": "code",
   "execution_count": 16,
   "metadata": {
    "collapsed": false,
    "deletable": true,
    "editable": true
   },
   "outputs": [],
   "source": [
    "n_words = len(vocab_to_int)+1\n",
    "\n",
    "# Create the graph object\n",
    "graph = tf.Graph()\n",
    "# Add nodes to the graph\n",
    "with graph.as_default():\n",
    "    inputs_ = tf.placeholder(tf.int32, (None, seq_len))\n",
    "    labels_ = tf.placeholder(tf.int32)\n",
    "    keep_prob = tf.placeholder(tf.float32)"
   ]
  },
  {
   "cell_type": "markdown",
   "metadata": {
    "deletable": true,
    "editable": true
   },
   "source": [
    "### Embedding\n",
    "\n",
    "Now we'll add an embedding layer. We need to do this because there are 74000 words in our vocabulary. It is massively inefficient to one-hot encode our classes here. You should remember dealing with this problem from the word2vec lesson. Instead of one-hot encoding, we can have an embedding layer and use that layer as a lookup table. You could train an embedding layer using word2vec, then load it here. But, it's fine to just make a new layer and let the network learn the weights.\n",
    "\n",
    "> **Exercise:** Create the embedding lookup matrix as a `tf.Variable`. Use that embedding matrix to get the embedded vectors to pass to the LSTM cell with [`tf.nn.embedding_lookup`](https://www.tensorflow.org/api_docs/python/tf/nn/embedding_lookup). This function takes the embedding matrix and an input tensor, such as the review vectors. Then, it'll return another tensor with the embedded vectors. So, if the embedding layer has 200 units, the function will return a tensor with size [batch_size, 200].\n",
    "\n"
   ]
  },
  {
   "cell_type": "code",
   "execution_count": 17,
   "metadata": {
    "collapsed": false,
    "deletable": true,
    "editable": true
   },
   "outputs": [],
   "source": [
    "# Size of the embedding vectors (number of units in the embedding layer)\n",
    "embed_size = 300 \n",
    "\n",
    "with graph.as_default():\n",
    "    embedding = tf.Variable(tf.random_uniform((n_words, embed_size), -1., 1.), expected_shape=(n_words, embed_size))\n",
    "    embed = tf.nn.embedding_lookup(embedding, inputs_)"
   ]
  },
  {
   "cell_type": "markdown",
   "metadata": {
    "deletable": true,
    "editable": true
   },
   "source": [
    "### LSTM cell\n",
    "\n",
    "<img src=\"assets/network_diagram.png\" width=400px>\n",
    "\n",
    "Next, we'll create our LSTM cells to use in the recurrent network ([TensorFlow documentation](https://www.tensorflow.org/api_docs/python/tf/contrib/rnn)). Here we are just defining what the cells look like. This isn't actually building the graph, just defining the type of cells we want in our graph.\n",
    "\n",
    "To create a basic LSTM cell for the graph, you'll want to use `tf.contrib.rnn.BasicLSTMCell`. Looking at the function documentation:\n",
    "\n",
    "```\n",
    "tf.contrib.rnn.BasicLSTMCell(num_units, forget_bias=1.0, input_size=None, state_is_tuple=True, activation=<function tanh at 0x109f1ef28>)\n",
    "```\n",
    "\n",
    "you can see it takes a parameter called `num_units`, the number of units in the cell, called `lstm_size` in this code. So then, you can write something like \n",
    "\n",
    "```\n",
    "lstm = tf.contrib.rnn.BasicLSTMCell(num_units)\n",
    "```\n",
    "\n",
    "to create an LSTM cell with `num_units`. Next, you can add dropout to the cell with `tf.contrib.rnn.DropoutWrapper`. This just wraps the cell in another cell, but with dropout added to the inputs and/or outputs. It's a really convenient way to make your network better with almost no effort! So you'd do something like\n",
    "\n",
    "```\n",
    "drop = tf.contrib.rnn.DropoutWrapper(cell, output_keep_prob=keep_prob)\n",
    "```\n",
    "\n",
    "Most of the time, you're network will have better performance with more layers. That's sort of the magic of deep learning, adding more layers allows the network to learn really complex relationships. Again, there is a simple way to create multiple layers of LSTM cells with `tf.contrib.rnn.MultiRNNCell`:\n",
    "\n",
    "```\n",
    "cell = tf.contrib.rnn.MultiRNNCell([drop] * lstm_layers)\n",
    "```\n",
    "\n",
    "Here, `[drop] * lstm_layers` creates a list of cells (`drop`) that is `lstm_layers` long. The `MultiRNNCell` wrapper builds this into multiple layers of RNN cells, one for each cell in the list.\n",
    "\n",
    "So the final cell you're using in the network is actually multiple (or just one) LSTM cells with dropout. But it all works the same from an achitectural viewpoint, just a more complicated graph in the cell.\n",
    "\n",
    "> **Exercise:** Below, use `tf.contrib.rnn.BasicLSTMCell` to create an LSTM cell. Then, add drop out to it with `tf.contrib.rnn.DropoutWrapper`. Finally, create multiple LSTM layers with `tf.contrib.rnn.MultiRNNCell`.\n",
    "\n",
    "Here is [a tutorial on building RNNs](https://www.tensorflow.org/tutorials/recurrent) that will help you out.\n"
   ]
  },
  {
   "cell_type": "code",
   "execution_count": 18,
   "metadata": {
    "collapsed": false,
    "deletable": true,
    "editable": true
   },
   "outputs": [],
   "source": [
    "with graph.as_default():\n",
    "    # Your basic LSTM cell\n",
    "    lstm = tf.contrib.rnn.BasicLSTMCell(lstm_size)\n",
    "    \n",
    "    # Add dropout to the cell\n",
    "    drop = tf.contrib.rnn.DropoutWrapper(lstm, keep_prob)\n",
    "    \n",
    "    # Stack up multiple LSTM layers, for deep learning\n",
    "    cell = tf.contrib.rnn.MultiRNNCell([drop] * lstm_layers)\n",
    "    \n",
    "    # Getting an initial state of all zeros\n",
    "    initial_state = cell.zero_state(batch_size, tf.float32)"
   ]
  },
  {
   "cell_type": "markdown",
   "metadata": {
    "deletable": true,
    "editable": true
   },
   "source": [
    "### RNN forward pass\n",
    "\n",
    "<img src=\"assets/network_diagram.png\" width=400px>\n",
    "\n",
    "Now we need to actually run the data through the RNN nodes. You can use [`tf.nn.dynamic_rnn`](https://www.tensorflow.org/api_docs/python/tf/nn/dynamic_rnn) to do this. You'd pass in the RNN cell you created (our multiple layered LSTM `cell` for instance), and the inputs to the network.\n",
    "\n",
    "```\n",
    "outputs, final_state = tf.nn.dynamic_rnn(cell, inputs, initial_state=initial_state)\n",
    "```\n",
    "\n",
    "Above I created an initial state, `initial_state`, to pass to the RNN. This is the cell state that is passed between the hidden layers in successive time steps. `tf.nn.dynamic_rnn` takes care of most of the work for us. We pass in our cell and the input to the cell, then it does the unrolling and everything else for us. It returns outputs for each time step and the final_state of the hidden layer.\n",
    "\n",
    "> **Exercise:** Use `tf.nn.dynamic_rnn` to add the forward pass through the RNN. Remember that we're actually passing in vectors from the embedding layer, `embed`.\n",
    "\n"
   ]
  },
  {
   "cell_type": "code",
   "execution_count": 19,
   "metadata": {
    "collapsed": false,
    "deletable": true,
    "editable": true
   },
   "outputs": [],
   "source": [
    "with graph.as_default():\n",
    "    outputs, final_state = tf.nn.dynamic_rnn(cell, embed, initial_state=initial_state)"
   ]
  },
  {
   "cell_type": "markdown",
   "metadata": {
    "deletable": true,
    "editable": true
   },
   "source": [
    "### Output\n",
    "\n",
    "We only care about the final output, we'll be using that as our sentiment prediction. So we need to grab the last output with `outputs[:, -1]`, the calculate the cost from that and `labels_`."
   ]
  },
  {
   "cell_type": "code",
   "execution_count": 20,
   "metadata": {
    "collapsed": false,
    "deletable": true,
    "editable": true
   },
   "outputs": [],
   "source": [
    "with graph.as_default():\n",
    "    predictions = tf.contrib.layers.fully_connected(outputs[:, -1], 1, activation_fn=tf.sigmoid)\n",
    "    cost = tf.losses.mean_squared_error(labels_, predictions)\n",
    "    \n",
    "    optimizer = tf.train.AdamOptimizer(learning_rate).minimize(cost)\n",
    "    tf.summary.scalar('cost', cost)"
   ]
  },
  {
   "cell_type": "markdown",
   "metadata": {
    "deletable": true,
    "editable": true
   },
   "source": [
    "### Validation accuracy\n",
    "\n",
    "Here we can add a few nodes to calculate the accuracy which we'll use in the validation pass."
   ]
  },
  {
   "cell_type": "code",
   "execution_count": 21,
   "metadata": {
    "collapsed": false,
    "deletable": true,
    "editable": true
   },
   "outputs": [],
   "source": [
    "with graph.as_default():\n",
    "    correct_pred = tf.equal(tf.cast(tf.round(predictions), tf.int32), labels_)\n",
    "    accuracy = tf.reduce_mean(tf.cast(correct_pred, tf.float32))\n",
    "    tf.summary.scalar('accuracy', accuracy)\n",
    "    "
   ]
  },
  {
   "cell_type": "markdown",
   "metadata": {
    "deletable": true,
    "editable": true
   },
   "source": [
    "### Batching\n",
    "\n",
    "This is a simple function for returning batches from our data. First it removes data such that we only have full batches. Then it iterates through the `x` and `y` arrays and returns slices out of those arrays with size `[batch_size]`."
   ]
  },
  {
   "cell_type": "code",
   "execution_count": 22,
   "metadata": {
    "collapsed": true,
    "deletable": true,
    "editable": true
   },
   "outputs": [],
   "source": [
    "def get_batches(x, y, batch_size=100):\n",
    "    \n",
    "    n_batches = len(x)//batch_size\n",
    "    x, y = x[:n_batches*batch_size], y[:n_batches*batch_size]\n",
    "    for ii in range(0, len(x), batch_size):\n",
    "        yield x[ii:ii+batch_size], y[ii:ii+batch_size]"
   ]
  },
  {
   "cell_type": "markdown",
   "metadata": {
    "deletable": true,
    "editable": true
   },
   "source": [
    "## Training\n",
    "\n",
    "Below is the typical training code. If you want to do this yourself, feel free to delete all this code and implement it yourself. Before you run this, make sure the `checkpoints` directory exists."
   ]
  },
  {
   "cell_type": "code",
   "execution_count": null,
   "metadata": {
    "collapsed": false,
    "deletable": true,
    "editable": true,
    "scrolled": false
   },
   "outputs": [
    {
     "name": "stdout",
     "output_type": "stream",
     "text": [
      "Epoch: 0/10 Iteration: 1 Train loss: 0.250\n",
      "Epoch: 0/10 Iteration: 2 Train loss: 0.246\n",
      "Epoch: 0/10 Iteration: 3 Train loss: 0.252\n",
      "Epoch: 0/10 Iteration: 4 Train loss: 0.248\n",
      "Epoch: 0/10 Iteration: 5 Train loss: 0.239\n",
      "Epoch: 0/10 Iteration: 6 Train loss: 0.247\n",
      "Epoch: 0/10 Iteration: 7 Train loss: 0.250\n",
      "Epoch: 0/10 Iteration: 8 Train loss: 0.247\n",
      "Epoch: 0/10 Iteration: 9 Train loss: 0.242\n",
      "Epoch: 0/10 Iteration: 10 Train loss: 0.250\n",
      "Val acc: 0.578\n",
      "Epoch: 0/10 Iteration: 11 Train loss: 0.239\n",
      "Epoch: 0/10 Iteration: 12 Train loss: 0.247\n",
      "Epoch: 0/10 Iteration: 13 Train loss: 0.238\n",
      "Epoch: 0/10 Iteration: 14 Train loss: 0.241\n",
      "Epoch: 0/10 Iteration: 15 Train loss: 0.245\n",
      "Epoch: 0/10 Iteration: 16 Train loss: 0.239\n",
      "Epoch: 0/10 Iteration: 17 Train loss: 0.236\n",
      "Epoch: 0/10 Iteration: 18 Train loss: 0.222\n",
      "Epoch: 0/10 Iteration: 19 Train loss: 0.206\n",
      "Epoch: 0/10 Iteration: 20 Train loss: 0.210\n",
      "Val acc: 0.550\n",
      "Epoch: 0/10 Iteration: 21 Train loss: 0.236\n",
      "Epoch: 0/10 Iteration: 22 Train loss: 0.234\n",
      "Epoch: 0/10 Iteration: 23 Train loss: 0.249\n",
      "Epoch: 0/10 Iteration: 24 Train loss: 0.262\n",
      "Epoch: 0/10 Iteration: 25 Train loss: 0.243\n",
      "Epoch: 0/10 Iteration: 26 Train loss: 0.240\n",
      "Epoch: 0/10 Iteration: 27 Train loss: 0.245\n",
      "Epoch: 0/10 Iteration: 28 Train loss: 0.241\n",
      "Epoch: 0/10 Iteration: 29 Train loss: 0.251\n",
      "Epoch: 0/10 Iteration: 30 Train loss: 0.247\n",
      "Val acc: 0.559\n",
      "Epoch: 0/10 Iteration: 31 Train loss: 0.246\n",
      "Epoch: 0/10 Iteration: 32 Train loss: 0.243\n",
      "Epoch: 0/10 Iteration: 33 Train loss: 0.240\n",
      "Epoch: 0/10 Iteration: 34 Train loss: 0.248\n",
      "Epoch: 0/10 Iteration: 35 Train loss: 0.243\n",
      "Epoch: 0/10 Iteration: 36 Train loss: 0.240\n",
      "Epoch: 0/10 Iteration: 37 Train loss: 0.237\n",
      "Epoch: 0/10 Iteration: 38 Train loss: 0.236\n",
      "Epoch: 0/10 Iteration: 39 Train loss: 0.242\n",
      "Epoch: 0/10 Iteration: 40 Train loss: 0.242\n",
      "Val acc: 0.561\n",
      "Epoch: 1/10 Iteration: 41 Train loss: 0.232\n",
      "Epoch: 1/10 Iteration: 42 Train loss: 0.227\n",
      "Epoch: 1/10 Iteration: 43 Train loss: 0.231\n",
      "Epoch: 1/10 Iteration: 44 Train loss: 0.232\n",
      "Epoch: 1/10 Iteration: 45 Train loss: 0.233\n",
      "Epoch: 1/10 Iteration: 46 Train loss: 0.231\n",
      "Epoch: 1/10 Iteration: 47 Train loss: 0.233\n",
      "Epoch: 1/10 Iteration: 48 Train loss: 0.239\n",
      "Epoch: 1/10 Iteration: 49 Train loss: 0.233\n",
      "Epoch: 1/10 Iteration: 50 Train loss: 0.233\n",
      "Val acc: 0.596\n",
      "Epoch: 1/10 Iteration: 51 Train loss: 0.227\n",
      "Epoch: 1/10 Iteration: 52 Train loss: 0.236\n",
      "Epoch: 1/10 Iteration: 53 Train loss: 0.221\n",
      "Epoch: 1/10 Iteration: 54 Train loss: 0.231\n",
      "Epoch: 1/10 Iteration: 55 Train loss: 0.228\n",
      "Epoch: 1/10 Iteration: 56 Train loss: 0.232\n",
      "Epoch: 1/10 Iteration: 57 Train loss: 0.230\n",
      "Epoch: 1/10 Iteration: 58 Train loss: 0.222\n",
      "Epoch: 1/10 Iteration: 59 Train loss: 0.230\n",
      "Epoch: 1/10 Iteration: 60 Train loss: 0.234\n",
      "Val acc: 0.625\n",
      "Epoch: 1/10 Iteration: 61 Train loss: 0.233\n",
      "Epoch: 1/10 Iteration: 62 Train loss: 0.224\n",
      "Epoch: 1/10 Iteration: 63 Train loss: 0.224\n",
      "Epoch: 1/10 Iteration: 64 Train loss: 0.230\n",
      "Epoch: 1/10 Iteration: 65 Train loss: 0.212\n",
      "Epoch: 1/10 Iteration: 66 Train loss: 0.228\n",
      "Epoch: 1/10 Iteration: 67 Train loss: 0.228\n",
      "Epoch: 1/10 Iteration: 68 Train loss: 0.212\n",
      "Epoch: 1/10 Iteration: 69 Train loss: 0.227\n",
      "Epoch: 1/10 Iteration: 70 Train loss: 0.210\n",
      "Val acc: 0.695\n",
      "Epoch: 1/10 Iteration: 71 Train loss: 0.232\n",
      "Epoch: 1/10 Iteration: 72 Train loss: 0.209\n",
      "Epoch: 1/10 Iteration: 73 Train loss: 0.219\n",
      "Epoch: 1/10 Iteration: 74 Train loss: 0.205\n",
      "Epoch: 1/10 Iteration: 75 Train loss: 0.200\n",
      "Epoch: 1/10 Iteration: 76 Train loss: 0.208\n",
      "Epoch: 1/10 Iteration: 77 Train loss: 0.214\n",
      "Epoch: 1/10 Iteration: 78 Train loss: 0.204\n",
      "Epoch: 1/10 Iteration: 79 Train loss: 0.204\n",
      "Epoch: 1/10 Iteration: 80 Train loss: 0.223\n",
      "Val acc: 0.722\n",
      "Epoch: 2/10 Iteration: 81 Train loss: 0.199\n",
      "Epoch: 2/10 Iteration: 82 Train loss: 0.196\n",
      "Epoch: 2/10 Iteration: 83 Train loss: 0.196\n",
      "Epoch: 2/10 Iteration: 84 Train loss: 0.203\n",
      "Epoch: 2/10 Iteration: 85 Train loss: 0.190\n",
      "Epoch: 2/10 Iteration: 86 Train loss: 0.198\n",
      "Epoch: 2/10 Iteration: 87 Train loss: 0.194\n",
      "Epoch: 2/10 Iteration: 88 Train loss: 0.176\n",
      "Epoch: 2/10 Iteration: 89 Train loss: 0.180\n",
      "Epoch: 2/10 Iteration: 90 Train loss: 0.195\n",
      "Val acc: 0.555\n",
      "Epoch: 2/10 Iteration: 91 Train loss: 0.175\n",
      "Epoch: 2/10 Iteration: 92 Train loss: 0.238\n",
      "Epoch: 2/10 Iteration: 93 Train loss: 0.265\n",
      "Epoch: 2/10 Iteration: 94 Train loss: 0.281\n",
      "Epoch: 2/10 Iteration: 95 Train loss: 0.246\n",
      "Epoch: 2/10 Iteration: 96 Train loss: 0.205\n",
      "Epoch: 2/10 Iteration: 97 Train loss: 0.201\n",
      "Epoch: 2/10 Iteration: 98 Train loss: 0.196\n",
      "Epoch: 2/10 Iteration: 99 Train loss: 0.212\n",
      "Epoch: 2/10 Iteration: 100 Train loss: 0.212\n",
      "Val acc: 0.558\n",
      "Epoch: 2/10 Iteration: 101 Train loss: 0.212\n",
      "Epoch: 2/10 Iteration: 102 Train loss: 0.204\n",
      "Epoch: 2/10 Iteration: 103 Train loss: 0.189\n",
      "Epoch: 2/10 Iteration: 104 Train loss: 0.203\n",
      "Epoch: 2/10 Iteration: 105 Train loss: 0.189\n",
      "Epoch: 2/10 Iteration: 106 Train loss: 0.195\n",
      "Epoch: 2/10 Iteration: 107 Train loss: 0.188\n",
      "Epoch: 2/10 Iteration: 108 Train loss: 0.190\n",
      "Epoch: 2/10 Iteration: 109 Train loss: 0.189\n",
      "Epoch: 2/10 Iteration: 110 Train loss: 0.173\n",
      "Val acc: 0.596\n",
      "Epoch: 2/10 Iteration: 111 Train loss: 0.177\n",
      "Epoch: 2/10 Iteration: 112 Train loss: 0.179\n",
      "Epoch: 2/10 Iteration: 113 Train loss: 0.189\n",
      "Epoch: 2/10 Iteration: 114 Train loss: 0.190\n",
      "Epoch: 2/10 Iteration: 115 Train loss: 0.179\n",
      "Epoch: 2/10 Iteration: 116 Train loss: 0.179\n",
      "Epoch: 2/10 Iteration: 117 Train loss: 0.164\n",
      "Epoch: 2/10 Iteration: 118 Train loss: 0.163\n",
      "Epoch: 2/10 Iteration: 119 Train loss: 0.166\n",
      "Epoch: 2/10 Iteration: 120 Train loss: 0.181\n",
      "Val acc: 0.619\n",
      "Epoch: 3/10 Iteration: 121 Train loss: 0.199\n",
      "Epoch: 3/10 Iteration: 122 Train loss: 0.193\n",
      "Epoch: 3/10 Iteration: 123 Train loss: 0.176\n",
      "Epoch: 3/10 Iteration: 124 Train loss: 0.190\n",
      "Epoch: 3/10 Iteration: 125 Train loss: 0.191\n",
      "Epoch: 3/10 Iteration: 126 Train loss: 0.186\n",
      "Epoch: 3/10 Iteration: 127 Train loss: 0.189\n",
      "Epoch: 3/10 Iteration: 128 Train loss: 0.181\n",
      "Epoch: 3/10 Iteration: 129 Train loss: 0.164\n",
      "Epoch: 3/10 Iteration: 130 Train loss: 0.154\n",
      "Val acc: 0.607\n",
      "Epoch: 3/10 Iteration: 131 Train loss: 0.177\n",
      "Epoch: 3/10 Iteration: 132 Train loss: 0.195\n",
      "Epoch: 3/10 Iteration: 133 Train loss: 0.187\n",
      "Epoch: 3/10 Iteration: 134 Train loss: 0.185\n",
      "Epoch: 3/10 Iteration: 135 Train loss: 0.180\n",
      "Epoch: 3/10 Iteration: 136 Train loss: 0.186\n",
      "Epoch: 3/10 Iteration: 137 Train loss: 0.198\n",
      "Epoch: 3/10 Iteration: 138 Train loss: 0.190\n",
      "Epoch: 3/10 Iteration: 139 Train loss: 0.179\n",
      "Epoch: 3/10 Iteration: 140 Train loss: 0.185\n",
      "Val acc: 0.758\n",
      "Epoch: 3/10 Iteration: 141 Train loss: 0.182\n",
      "Epoch: 3/10 Iteration: 142 Train loss: 0.175\n",
      "Epoch: 3/10 Iteration: 143 Train loss: 0.155\n",
      "Epoch: 3/10 Iteration: 144 Train loss: 0.168\n",
      "Epoch: 3/10 Iteration: 145 Train loss: 0.148\n",
      "Epoch: 3/10 Iteration: 146 Train loss: 0.165\n",
      "Epoch: 3/10 Iteration: 147 Train loss: 0.176\n",
      "Epoch: 3/10 Iteration: 148 Train loss: 0.160\n",
      "Epoch: 3/10 Iteration: 149 Train loss: 0.202\n",
      "Epoch: 3/10 Iteration: 150 Train loss: 0.181\n",
      "Val acc: 0.681\n",
      "Epoch: 3/10 Iteration: 151 Train loss: 0.189\n",
      "Epoch: 3/10 Iteration: 152 Train loss: 0.213\n",
      "Epoch: 3/10 Iteration: 153 Train loss: 0.220\n",
      "Epoch: 3/10 Iteration: 154 Train loss: 0.203\n",
      "Epoch: 3/10 Iteration: 155 Train loss: 0.193\n",
      "Epoch: 3/10 Iteration: 156 Train loss: 0.197\n",
      "Epoch: 3/10 Iteration: 157 Train loss: 0.185\n",
      "Epoch: 3/10 Iteration: 158 Train loss: 0.175\n",
      "Epoch: 3/10 Iteration: 159 Train loss: 0.169\n",
      "Epoch: 3/10 Iteration: 160 Train loss: 0.182\n",
      "Val acc: 0.718\n",
      "Epoch: 4/10 Iteration: 161 Train loss: 0.172\n",
      "Epoch: 4/10 Iteration: 162 Train loss: 0.168\n",
      "Epoch: 4/10 Iteration: 163 Train loss: 0.183\n",
      "Epoch: 4/10 Iteration: 164 Train loss: 0.174\n",
      "Epoch: 4/10 Iteration: 165 Train loss: 0.169\n",
      "Epoch: 4/10 Iteration: 166 Train loss: 0.175\n",
      "Epoch: 4/10 Iteration: 167 Train loss: 0.174\n",
      "Epoch: 4/10 Iteration: 168 Train loss: 0.165\n",
      "Epoch: 4/10 Iteration: 169 Train loss: 0.165\n",
      "Epoch: 4/10 Iteration: 170 Train loss: 0.164\n",
      "Val acc: 0.754\n",
      "Epoch: 4/10 Iteration: 171 Train loss: 0.150\n",
      "Epoch: 4/10 Iteration: 172 Train loss: 0.174\n",
      "Epoch: 4/10 Iteration: 173 Train loss: 0.158\n",
      "Epoch: 4/10 Iteration: 174 Train loss: 0.159\n",
      "Epoch: 4/10 Iteration: 175 Train loss: 0.156\n",
      "Epoch: 4/10 Iteration: 176 Train loss: 0.162\n",
      "Epoch: 4/10 Iteration: 177 Train loss: 0.187\n",
      "Epoch: 4/10 Iteration: 178 Train loss: 0.184\n",
      "Epoch: 4/10 Iteration: 179 Train loss: 0.181\n",
      "Epoch: 4/10 Iteration: 180 Train loss: 0.204\n",
      "Val acc: 0.760\n",
      "Epoch: 4/10 Iteration: 181 Train loss: 0.185\n",
      "Epoch: 4/10 Iteration: 182 Train loss: 0.143\n",
      "Epoch: 4/10 Iteration: 183 Train loss: 0.160\n",
      "Epoch: 4/10 Iteration: 184 Train loss: 0.182\n",
      "Epoch: 4/10 Iteration: 185 Train loss: 0.172\n",
      "Epoch: 4/10 Iteration: 186 Train loss: 0.201\n",
      "Epoch: 4/10 Iteration: 187 Train loss: 0.191\n",
      "Epoch: 4/10 Iteration: 188 Train loss: 0.165\n",
      "Epoch: 4/10 Iteration: 189 Train loss: 0.184\n",
      "Epoch: 4/10 Iteration: 190 Train loss: 0.167\n",
      "Val acc: 0.785\n",
      "Epoch: 4/10 Iteration: 191 Train loss: 0.195\n",
      "Epoch: 4/10 Iteration: 192 Train loss: 0.160\n",
      "Epoch: 4/10 Iteration: 193 Train loss: 0.180\n"
     ]
    }
   ],
   "source": [
    "epochs = 10\n",
    "\n",
    "\n",
    "train_writer = tf.summary.FileWriter('./logs/train', graph)\n",
    "test_writer = tf.summary.FileWriter('./logs/test')\n",
    "\n",
    "with graph.as_default():\n",
    "    saver = tf.train.Saver()\n",
    "\n",
    "with tf.Session(graph=graph) as sess:\n",
    "    merged = tf.summary.merge_all()\n",
    "\n",
    "    sess.run(tf.global_variables_initializer())\n",
    "    iteration = 1\n",
    "    for e in range(epochs):\n",
    "        state = sess.run(initial_state)\n",
    "        \n",
    "        for ii, (x, y) in enumerate(get_batches(train_x, train_y, batch_size), 1):\n",
    "            feed = {inputs_: x,\n",
    "                    labels_: y[:, None],\n",
    "                    keep_prob: 0.5,\n",
    "                    initial_state: state}\n",
    "            summary, loss, state, _ = sess.run([merged, cost, final_state, optimizer], feed_dict=feed)\n",
    "            train_writer.add_summary(summary, ii)\n",
    "            if iteration%1==0:\n",
    "                print(\"Epoch: {}/{}\".format(e, epochs),\n",
    "                      \"Iteration: {}\".format(iteration),\n",
    "                      \"Train loss: {:.3f}\".format(loss))\n",
    "\n",
    "            if iteration%10==0:\n",
    "                val_acc = []\n",
    "                val_state = sess.run(cell.zero_state(batch_size, tf.float32))\n",
    "                for x, y in get_batches(val_x, val_y, batch_size):\n",
    "                    feed = {inputs_: x,\n",
    "                            labels_: y[:, None],\n",
    "                            keep_prob: 1,\n",
    "                            initial_state: val_state}\n",
    "                    summary, batch_acc, val_state = sess.run([merged, accuracy, final_state], feed_dict=feed)\n",
    "                    test_writer.add_summary(summary, ii)\n",
    "                    val_acc.append(batch_acc)\n",
    "                print(\"Val acc: {:.3f}\".format(np.mean(val_acc)))\n",
    "            iteration +=1\n",
    "        saver.save(sess, \"checkpoints/sentiment.ckpt\", global_step=e)"
   ]
  },
  {
   "cell_type": "markdown",
   "metadata": {
    "deletable": true,
    "editable": true
   },
   "source": [
    "## Testing"
   ]
  },
  {
   "cell_type": "code",
   "execution_count": null,
   "metadata": {
    "collapsed": false,
    "deletable": true,
    "editable": true
   },
   "outputs": [],
   "source": [
    "test_acc = []\n",
    "with tf.Session(graph=graph) as sess:\n",
    "    saver.restore(sess, tf.train.latest_checkpoint('/output/checkpoints'))\n",
    "    test_state = sess.run(cell.zero_state(batch_size, tf.float32))\n",
    "    for ii, (x, y) in enumerate(get_batches(test_x, test_y, batch_size), 1):\n",
    "        feed = {inputs_: x,\n",
    "                labels_: y[:, None],\n",
    "                keep_prob: 1,\n",
    "                initial_state: test_state}\n",
    "        batch_acc, test_state = sess.run([accuracy, final_state], feed_dict=feed)\n",
    "        test_acc.append(batch_acc)\n",
    "    print(\"Test accuracy: {:.3f}\".format(np.mean(test_acc)))"
   ]
  }
 ],
 "metadata": {
  "kernelspec": {
   "display_name": "Python 3",
   "language": "python",
   "name": "python3"
  }
 },
 "nbformat": 4,
 "nbformat_minor": 2
}
